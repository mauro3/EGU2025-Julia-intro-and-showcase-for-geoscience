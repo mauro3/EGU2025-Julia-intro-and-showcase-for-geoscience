{
 "cells": [
  {
   "cell_type": "markdown",
   "metadata": {},
   "source": [
    "# Realistic Ocean Simulations in pure Julia\n",
    "\n",
    "In this tutorial we will build a global ocean simulation using the ClimaOcean and Oceananigans Julia packages.\n",
    "The simulation will be at a nominal four-degree with parameterizations for mesoscale eddies and vertical mixing.\n",
    "We will set up the grid, download and interpolate the bathymetry,\n",
    "download forcing files, and finally set up and run the simulation"
   ]
  },
  {
   "cell_type": "markdown",
   "metadata": {},
   "source": [
    "## Required software\n",
    "\n",
    "The tutorial is quite computationally expensive, therefore, if you have\n",
    "access, it is recommended to run the tutorial on one GPU.\n",
    "However, for the purpose of understanding how the library works,\n",
    "a 2 degree global ocean model runs comfortably on a laptop."
   ]
  },
  {
   "cell_type": "markdown",
   "metadata": {},
   "source": [
    "## Packages:"
   ]
  },
  {
   "cell_type": "markdown",
   "metadata": {},
   "source": [
    "Let's start by importing the necessary packages, these are:\n",
    "- ClimaOcean: the ocean model\n",
    "- Oceananigans: the fluid dynamics library doing the heavy lifting\n",
    "- Printf: always useful for spitting out output\n",
    "- CairoMakie: visualization package to visualize the results"
   ]
  },
  {
   "cell_type": "code",
   "execution_count": null,
   "metadata": {},
   "outputs": [
    {
     "name": "stderr",
     "output_type": "stream",
     "text": [
      "\u001b[32m\u001b[1m  Activating\u001b[22m\u001b[39m project at `~/development/EGU2025-Julia-intro-and-showcase-for-geoscience/global-ocean-notebooks`\n",
      "\u001b[32m\u001b[1m    Updating\u001b[22m\u001b[39m registry at `~/.julia/registries/General.toml`\n",
      "\u001b[32m\u001b[1m   Installed\u001b[22m\u001b[39m Xorg_libX11_jll ───── v1.8.12+0\n",
      "\u001b[32m\u001b[1m   Installed\u001b[22m\u001b[39m Xorg_libXext_jll ──── v1.3.7+0\n",
      "\u001b[32m\u001b[1m   Installed\u001b[22m\u001b[39m Xorg_libXrender_jll ─ v0.9.12+0\n",
      "\u001b[32m\u001b[1m   Installed\u001b[22m\u001b[39m OffsetArrays ──────── v1.17.0\n",
      "\u001b[32m\u001b[1m    Updating\u001b[22m\u001b[39m `~/development/EGU2025-Julia-intro-and-showcase-for-geoscience/global-ocean-notebooks/Project.toml`\n",
      "  \u001b[90m[13f3f980] \u001b[39m\u001b[92m+ CairoMakie v0.13.4\u001b[39m\n",
      "  \u001b[90m[0376089a] \u001b[39m\u001b[92m+ ClimaOcean v0.6.0\u001b[39m\n",
      "  \u001b[90m[9e8cae18] \u001b[39m\u001b[92m+ Oceananigans v0.96.20\u001b[39m\n",
      "\u001b[32m\u001b[1m    Updating\u001b[22m\u001b[39m `~/development/EGU2025-Julia-intro-and-showcase-for-geoscience/global-ocean-notebooks/Manifest.toml`\n",
      "  \u001b[90m[621f4979] \u001b[39m\u001b[92m+ AbstractFFTs v1.5.0\u001b[39m\n",
      "  \u001b[90m[1520ce14] \u001b[39m\u001b[92m+ AbstractTrees v0.4.5\u001b[39m\n",
      "  \u001b[90m[7d9f7c33] \u001b[39m\u001b[92m+ Accessors v0.1.42\u001b[39m\n",
      "  \u001b[90m[79e6a3ab] \u001b[39m\u001b[92m+ Adapt v4.3.0\u001b[39m\n",
      "  \u001b[90m[35492f91] \u001b[39m\u001b[92m+ AdaptivePredicates v1.2.0\u001b[39m\n",
      "  \u001b[90m[66dad0bd] \u001b[39m\u001b[92m+ AliasTables v1.1.3\u001b[39m\n",
      "  \u001b[90m[27a7e980] \u001b[39m\u001b[92m+ Animations v0.4.2\u001b[39m\n",
      "\u001b[33m⌅\u001b[39m \u001b[90m[ec485272] \u001b[39m\u001b[92m+ ArnoldiMethod v0.1.0\u001b[39m\n",
      "  \u001b[90m[4fba245c] \u001b[39m\u001b[92m+ ArrayInterface v7.18.0\u001b[39m\n",
      "  \u001b[90m[a9b6321e] \u001b[39m\u001b[92m+ Atomix v1.1.1\u001b[39m\n",
      "  \u001b[90m[67c07d97] \u001b[39m\u001b[92m+ Automa v1.1.0\u001b[39m\n",
      "  \u001b[90m[13072b0f] \u001b[39m\u001b[92m+ AxisAlgorithms v1.1.0\u001b[39m\n",
      "  \u001b[90m[39de3d68] \u001b[39m\u001b[92m+ AxisArrays v0.4.7\u001b[39m\n",
      "  \u001b[90m[ab4f0b2a] \u001b[39m\u001b[92m+ BFloat16s v0.5.1\u001b[39m\n",
      "  \u001b[90m[d1d4a3ce] \u001b[39m\u001b[92m+ BitFlags v0.1.9\u001b[39m\n",
      "  \u001b[90m[62783981] \u001b[39m\u001b[92m+ BitTwiddlingConvenienceFunctions v0.1.6\u001b[39m\n",
      "  \u001b[90m[fa961155] \u001b[39m\u001b[92m+ CEnum v0.5.0\u001b[39m\n",
      "\u001b[33m⌅\u001b[39m \u001b[90m[179af706] \u001b[39m\u001b[92m+ CFTime v0.1.4\u001b[39m\n",
      "  \u001b[90m[2a0fbf3d] \u001b[39m\u001b[92m+ CPUSummary v0.2.6\u001b[39m\n",
      "  \u001b[90m[96374032] \u001b[39m\u001b[92m+ CRlibm v1.0.2\u001b[39m\n",
      "  \u001b[90m[052768ef] \u001b[39m\u001b[92m+ CUDA v5.7.2\u001b[39m\n",
      "  \u001b[90m[1af6417a] \u001b[39m\u001b[92m+ CUDA_Runtime_Discovery v0.3.5\u001b[39m\n",
      "  \u001b[90m[159f3aea] \u001b[39m\u001b[92m+ Cairo v1.1.1\u001b[39m\n",
      "  \u001b[90m[13f3f980] \u001b[39m\u001b[92m+ CairoMakie v0.13.4\u001b[39m\n",
      "  \u001b[90m[d360d2e6] \u001b[39m\u001b[92m+ ChainRulesCore v1.25.1\u001b[39m\n",
      "  \u001b[90m[0376089a] \u001b[39m\u001b[92m+ ClimaOcean v0.6.0\u001b[39m\n",
      "  \u001b[90m[6ba0ff68] \u001b[39m\u001b[92m+ ClimaSeaIce v0.2.6\u001b[39m\n",
      "  \u001b[90m[fb6a15b2] \u001b[39m\u001b[92m+ CloseOpenIntervals v0.1.13\u001b[39m\n",
      "  \u001b[90m[944b1d66] \u001b[39m\u001b[92m+ CodecZlib v0.7.8\u001b[39m\n",
      "  \u001b[90m[a2cac450] \u001b[39m\u001b[92m+ ColorBrewer v0.4.1\u001b[39m\n",
      "  \u001b[90m[35d6a980] \u001b[39m\u001b[92m+ ColorSchemes v3.29.0\u001b[39m\n",
      "  \u001b[90m[3da002f7] \u001b[39m\u001b[92m+ ColorTypes v0.12.1\u001b[39m\n",
      "  \u001b[90m[c3611d14] \u001b[39m\u001b[92m+ ColorVectorSpace v0.11.0\u001b[39m\n",
      "  \u001b[90m[5ae59095] \u001b[39m\u001b[92m+ Colors v0.13.0\u001b[39m\n",
      "  \u001b[90m[1fbeeb36] \u001b[39m\u001b[92m+ CommonDataModel v0.3.8\u001b[39m\n",
      "  \u001b[90m[38540f10] \u001b[39m\u001b[92m+ CommonSolve v0.2.4\u001b[39m\n",
      "  \u001b[90m[bbf7d656] \u001b[39m\u001b[92m+ CommonSubexpressions v0.3.1\u001b[39m\n",
      "  \u001b[90m[f70d9fcc] \u001b[39m\u001b[92m+ CommonWorldInvalidations v1.0.0\u001b[39m\n",
      "  \u001b[90m[34da2185] \u001b[39m\u001b[92m+ Compat v4.16.0\u001b[39m\n",
      "  \u001b[90m[a33af91c] \u001b[39m\u001b[92m+ CompositionsBase v0.1.2\u001b[39m\n",
      "  \u001b[90m[a216cea6] \u001b[39m\u001b[92m+ CompoundPeriods v0.5.4\u001b[39m\n",
      "  \u001b[90m[f0e56b4a] \u001b[39m\u001b[92m+ ConcurrentUtilities v2.5.0\u001b[39m\n",
      "  \u001b[90m[187b0558] \u001b[39m\u001b[92m+ ConstructionBase v1.5.8\u001b[39m\n",
      "  \u001b[90m[d38c429a] \u001b[39m\u001b[92m+ Contour v0.6.3\u001b[39m\n",
      "  \u001b[90m[adafc99b] \u001b[39m\u001b[92m+ CpuId v0.3.1\u001b[39m\n",
      "  \u001b[90m[a8cc5b0e] \u001b[39m\u001b[92m+ Crayons v4.1.1\u001b[39m\n",
      "  \u001b[90m[7445602f] \u001b[39m\u001b[92m+ CubedSphere v0.3.1\u001b[39m\n",
      "  \u001b[90m[9c784101] \u001b[39m\u001b[92m+ CubicSplines v0.2.1\u001b[39m\n",
      "  \u001b[90m[9a962f9c] \u001b[39m\u001b[92m+ DataAPI v1.16.0\u001b[39m\n",
      "  \u001b[90m[124859b0] \u001b[39m\u001b[92m+ DataDeps v0.7.13\u001b[39m\n",
      "  \u001b[90m[a93c6f00] \u001b[39m\u001b[92m+ DataFrames v1.7.0\u001b[39m\n",
      "  \u001b[90m[864edb3b] \u001b[39m\u001b[92m+ DataStructures v0.18.22\u001b[39m\n",
      "  \u001b[90m[e2d170a0] \u001b[39m\u001b[92m+ DataValueInterfaces v1.0.0\u001b[39m\n",
      "  \u001b[90m[927a84f5] \u001b[39m\u001b[92m+ DelaunayTriangulation v1.6.4\u001b[39m\n",
      "  \u001b[90m[163ba53b] \u001b[39m\u001b[92m+ DiffResults v1.1.0\u001b[39m\n",
      "  \u001b[90m[b552c78f] \u001b[39m\u001b[92m+ DiffRules v1.15.1\u001b[39m\n",
      "  \u001b[90m[3c3547ce] \u001b[39m\u001b[92m+ DiskArrays v0.4.12\u001b[39m\n",
      "  \u001b[90m[b4f34e82] \u001b[39m\u001b[92m+ Distances v0.10.12\u001b[39m\n",
      "  \u001b[90m[31c24e10] \u001b[39m\u001b[92m+ Distributions v0.25.118\u001b[39m\n",
      "  \u001b[90m[ffbed154] \u001b[39m\u001b[92m+ DocStringExtensions v0.9.4\u001b[39m\n",
      "  \u001b[90m[4e289a0a] \u001b[39m\u001b[92m+ EnumX v1.0.5\u001b[39m\n",
      "  \u001b[90m[90fa49ef] \u001b[39m\u001b[92m+ ErrorfreeArithmetic v0.5.2\u001b[39m\n",
      "\u001b[32m⌃\u001b[39m \u001b[90m[429591f6] \u001b[39m\u001b[92m+ ExactPredicates v2.2.5\u001b[39m\n",
      "  \u001b[90m[460bff9d] \u001b[39m\u001b[92m+ ExceptionUnwrapping v0.1.11\u001b[39m\n",
      "  \u001b[90m[e2ba6199] \u001b[39m\u001b[92m+ ExprTools v0.1.10\u001b[39m\n",
      "  \u001b[90m[21656369] \u001b[39m\u001b[92m+ ExpressionExplorer v1.1.2\u001b[39m\n",
      "  \u001b[90m[411431e0] \u001b[39m\u001b[92m+ Extents v0.1.5\u001b[39m\n",
      "  \u001b[90m[7a1cc6ca] \u001b[39m\u001b[92m+ FFTW v1.8.1\u001b[39m\n",
      "  \u001b[90m[fa42c844] \u001b[39m\u001b[92m+ FastRounding v0.3.1\u001b[39m\n",
      "  \u001b[90m[5789e2e9] \u001b[39m\u001b[92m+ FileIO v1.17.0\u001b[39m\n",
      "\u001b[33m⌅\u001b[39m \u001b[90m[8fc22ac5] \u001b[39m\u001b[92m+ FilePaths v0.8.3\u001b[39m\n",
      "  \u001b[90m[48062228] \u001b[39m\u001b[92m+ FilePathsBase v0.9.24\u001b[39m\n",
      "  \u001b[90m[1a297f60] \u001b[39m\u001b[92m+ FillArrays v1.13.0\u001b[39m\n",
      "  \u001b[90m[53c48c17] \u001b[39m\u001b[92m+ FixedPointNumbers v0.8.5\u001b[39m\n",
      "  \u001b[90m[1fa38f19] \u001b[39m\u001b[92m+ Format v1.3.7\u001b[39m\n",
      "  \u001b[90m[f6369f11] \u001b[39m\u001b[92m+ ForwardDiff v1.0.1\u001b[39m\n",
      "  \u001b[90m[b38be410] \u001b[39m\u001b[92m+ FreeType v4.1.1\u001b[39m\n",
      "  \u001b[90m[663a7486] \u001b[39m\u001b[92m+ FreeTypeAbstraction v0.10.6\u001b[39m\n",
      "  \u001b[90m[0c68f7d7] \u001b[39m\u001b[92m+ GPUArrays v11.2.2\u001b[39m\n",
      "  \u001b[90m[46192b85] \u001b[39m\u001b[92m+ GPUArraysCore v0.2.0\u001b[39m\n",
      "  \u001b[90m[61eb1bfa] \u001b[39m\u001b[92m+ GPUCompiler v1.3.2\u001b[39m\n",
      "  \u001b[90m[096a3bc2] \u001b[39m\u001b[92m+ GPUToolbox v0.2.0\u001b[39m\n",
      "  \u001b[90m[68eda718] \u001b[39m\u001b[92m+ GeoFormatTypes v0.4.4\u001b[39m\n",
      "  \u001b[90m[cf35fbd7] \u001b[39m\u001b[92m+ GeoInterface v1.4.1\u001b[39m\n",
      "  \u001b[90m[5c1252a2] \u001b[39m\u001b[92m+ GeometryBasics v0.5.7\u001b[39m\n",
      "  \u001b[90m[c27321d9] \u001b[39m\u001b[92m+ Glob v1.3.1\u001b[39m\n",
      "  \u001b[90m[a2bd30eb] \u001b[39m\u001b[92m+ Graphics v1.1.3\u001b[39m\n",
      "  \u001b[90m[3955a311] \u001b[39m\u001b[92m+ GridLayoutBase v0.11.1\u001b[39m\n",
      "  \u001b[90m[42e2da0e] \u001b[39m\u001b[92m+ Grisu v1.0.2\u001b[39m\n",
      "  \u001b[90m[cd3eb016] \u001b[39m\u001b[92m+ HTTP v1.10.16\u001b[39m\n",
      "  \u001b[90m[076d061b] \u001b[39m\u001b[92m+ HashArrayMappedTries v0.2.0\u001b[39m\n",
      "  \u001b[90m[3e5b6fbb] \u001b[39m\u001b[92m+ HostCPUFeatures v0.1.17\u001b[39m\n",
      "  \u001b[90m[34004b35] \u001b[39m\u001b[92m+ HypergeometricFunctions v0.3.28\u001b[39m\n",
      "  \u001b[90m[615f187c] \u001b[39m\u001b[92m+ IfElse v0.1.1\u001b[39m\n",
      "  \u001b[90m[2803e5a7] \u001b[39m\u001b[92m+ ImageAxes v0.6.12\u001b[39m\n",
      "  \u001b[90m[c817782e] \u001b[39m\u001b[92m+ ImageBase v0.1.7\u001b[39m\n",
      "  \u001b[90m[a09fc81d] \u001b[39m\u001b[92m+ ImageCore v0.10.5\u001b[39m\n",
      "  \u001b[90m[82e4d734] \u001b[39m\u001b[92m+ ImageIO v0.6.9\u001b[39m\n",
      "  \u001b[90m[bc367c6b] \u001b[39m\u001b[92m+ ImageMetadata v0.9.10\u001b[39m\n",
      "  \u001b[90m[787d08f9] \u001b[39m\u001b[92m+ ImageMorphology v0.4.6\u001b[39m\n",
      "  \u001b[90m[9b13fd28] \u001b[39m\u001b[92m+ IndirectArrays v1.0.0\u001b[39m\n",
      "  \u001b[90m[d25df0c9] \u001b[39m\u001b[92m+ Inflate v0.1.5\u001b[39m\n",
      "  \u001b[90m[842dd82b] \u001b[39m\u001b[92m+ InlineStrings v1.4.3\u001b[39m\n",
      "  \u001b[90m[a98d9a8b] \u001b[39m\u001b[92m+ Interpolations v0.15.1\u001b[39m\n",
      "\u001b[33m⌅\u001b[39m \u001b[90m[d1acc4aa] \u001b[39m\u001b[92m+ IntervalArithmetic v0.20.9\u001b[39m\n",
      "  \u001b[90m[8197267c] \u001b[39m\u001b[92m+ IntervalSets v0.7.10\u001b[39m\n",
      "  \u001b[90m[3587e190] \u001b[39m\u001b[92m+ InverseFunctions v0.1.17\u001b[39m\n",
      "  \u001b[90m[41ab1584] \u001b[39m\u001b[92m+ InvertedIndices v1.3.1\u001b[39m\n",
      "  \u001b[90m[92d709cd] \u001b[39m\u001b[92m+ IrrationalConstants v0.2.4\u001b[39m\n",
      "  \u001b[90m[f1662d9f] \u001b[39m\u001b[92m+ Isoband v0.1.1\u001b[39m\n",
      "  \u001b[90m[c8e1da08] \u001b[39m\u001b[92m+ IterTools v1.10.0\u001b[39m\n",
      "  \u001b[90m[42fd0dbc] \u001b[39m\u001b[92m+ IterativeSolvers v0.9.4\u001b[39m\n",
      "  \u001b[90m[82899510] \u001b[39m\u001b[92m+ IteratorInterfaceExtensions v1.0.0\u001b[39m\n",
      "  \u001b[90m[033835bb] \u001b[39m\u001b[92m+ JLD2 v0.5.12\u001b[39m\n",
      "  \u001b[90m[692b3bcd] \u001b[39m\u001b[92m+ JLLWrappers v1.7.0\u001b[39m\n",
      "  \u001b[90m[682c06a0] \u001b[39m\u001b[92m+ JSON v0.21.4\u001b[39m\n",
      "  \u001b[90m[b835a17e] \u001b[39m\u001b[92m+ JpegTurbo v0.1.6\u001b[39m\n",
      "  \u001b[90m[63c18a36] \u001b[39m\u001b[92m+ KernelAbstractions v0.9.34\u001b[39m\n",
      "  \u001b[90m[5ab0869b] \u001b[39m\u001b[92m+ KernelDensity v0.6.9\u001b[39m\n",
      "  \u001b[90m[ba0b0d4f] \u001b[39m\u001b[92m+ Krylov v0.9.10\u001b[39m\n",
      "  \u001b[90m[45d422c2] \u001b[39m\u001b[92m+ KrylovPreconditioners v0.3.1\u001b[39m\n",
      "  \u001b[90m[929cbde3] \u001b[39m\u001b[92m+ LLVM v9.2.0\u001b[39m\n",
      "  \u001b[90m[8b046642] \u001b[39m\u001b[92m+ LLVMLoopInfo v1.0.0\u001b[39m\n",
      "  \u001b[90m[8ac3fa9e] \u001b[39m\u001b[92m+ LRUCache v1.6.2\u001b[39m\n",
      "  \u001b[90m[b964fa9f] \u001b[39m\u001b[92m+ LaTeXStrings v1.4.0\u001b[39m\n",
      "  \u001b[90m[10f19ff3] \u001b[39m\u001b[92m+ LayoutPointers v0.1.17\u001b[39m\n",
      "  \u001b[90m[8cdb02fc] \u001b[39m\u001b[92m+ LazyModules v0.3.1\u001b[39m\n",
      "  \u001b[90m[093fc24a] \u001b[39m\u001b[92m+ LightGraphs v1.3.5\u001b[39m\n",
      "  \u001b[90m[2ab3a3ac] \u001b[39m\u001b[92m+ LogExpFunctions v0.3.29\u001b[39m\n",
      "  \u001b[90m[e6f89c97] \u001b[39m\u001b[92m+ LoggingExtras v1.1.0\u001b[39m\n",
      "  \u001b[90m[bdcacae8] \u001b[39m\u001b[92m+ LoopVectorization v0.12.172\u001b[39m\n",
      "  \u001b[90m[da04e1cc] \u001b[39m\u001b[92m+ MPI v0.20.22\u001b[39m\n",
      "  \u001b[90m[3da0fdf6] \u001b[39m\u001b[92m+ MPIPreferences v0.1.11\u001b[39m\n",
      "  \u001b[90m[1914dd2f] \u001b[39m\u001b[92m+ MacroTools v0.5.15\u001b[39m\n",
      "  \u001b[90m[ee78f7c6] \u001b[39m\u001b[92m+ Makie v0.22.4\u001b[39m\n",
      "  \u001b[90m[20f20a25] \u001b[39m\u001b[92m+ MakieCore v0.9.2\u001b[39m\n",
      "  \u001b[90m[d125e4d3] \u001b[39m\u001b[92m+ ManualMemory v0.1.8\u001b[39m\n",
      "  \u001b[90m[dbb5928d] \u001b[39m\u001b[92m+ MappedArrays v0.4.2\u001b[39m\n",
      "  \u001b[90m[0a4f8689] \u001b[39m\u001b[92m+ MathTeXEngine v0.6.3\u001b[39m\n",
      "  \u001b[90m[739be429] \u001b[39m\u001b[92m+ MbedTLS v1.1.9\u001b[39m\n",
      "  \u001b[90m[2679e427] \u001b[39m\u001b[92m+ Metis v1.5.0\u001b[39m\n",
      "  \u001b[90m[e1d29d7a] \u001b[39m\u001b[92m+ Missings v1.2.0\u001b[39m\n",
      "  \u001b[90m[78c3b35d] \u001b[39m\u001b[92m+ Mocking v0.8.1\u001b[39m\n",
      "  \u001b[90m[e94cdb99] \u001b[39m\u001b[92m+ MosaicViews v0.3.4\u001b[39m\n",
      "  \u001b[90m[85f8d34a] \u001b[39m\u001b[92m+ NCDatasets v0.14.7\u001b[39m\n",
      "  \u001b[90m[5da4648a] \u001b[39m\u001b[92m+ NVTX v1.0.0\u001b[39m\n",
      "  \u001b[90m[77ba4419] \u001b[39m\u001b[92m+ NaNMath v1.1.3\u001b[39m\n",
      "  \u001b[90m[f09324ee] \u001b[39m\u001b[92m+ Netpbm v1.1.1\u001b[39m\n",
      "  \u001b[90m[510215fc] \u001b[39m\u001b[92m+ Observables v0.5.5\u001b[39m\n",
      "  \u001b[90m[9e8cae18] \u001b[39m\u001b[92m+ Oceananigans v0.96.20\u001b[39m\n",
      "  \u001b[90m[6fe1bfb0] \u001b[39m\u001b[92m+ OffsetArrays v1.17.0\u001b[39m\n",
      "  \u001b[90m[52e1d378] \u001b[39m\u001b[92m+ OpenEXR v0.3.3\u001b[39m\n",
      "  \u001b[90m[4d8831e6] \u001b[39m\u001b[92m+ OpenSSL v1.4.3\u001b[39m\n",
      "  \u001b[90m[bac558e1] \u001b[39m\u001b[92m+ OrderedCollections v1.8.0\u001b[39m\n",
      "  \u001b[90m[90014a1f] \u001b[39m\u001b[92m+ PDMats v0.11.34\u001b[39m\n",
      "  \u001b[90m[f57f5aa1] \u001b[39m\u001b[92m+ PNGFiles v0.4.4\u001b[39m\n",
      "  \u001b[90m[19eb6ba3] \u001b[39m\u001b[92m+ Packing v0.5.1\u001b[39m\n",
      "  \u001b[90m[5432bcbf] \u001b[39m\u001b[92m+ PaddedViews v0.5.12\u001b[39m\n",
      "  \u001b[90m[69de0a69] \u001b[39m\u001b[92m+ Parsers v2.8.2\u001b[39m\n",
      "  \u001b[90m[eebad327] \u001b[39m\u001b[92m+ PkgVersion v0.3.3\u001b[39m\n",
      "  \u001b[90m[995b91a9] \u001b[39m\u001b[92m+ PlotUtils v1.4.3\u001b[39m\n",
      "  \u001b[90m[1d0040c9] \u001b[39m\u001b[92m+ PolyesterWeave v0.2.2\u001b[39m\n",
      "  \u001b[90m[647866c9] \u001b[39m\u001b[92m+ PolygonOps v0.1.2\u001b[39m\n",
      "  \u001b[90m[2dfb63ee] \u001b[39m\u001b[92m+ PooledArrays v1.4.3\u001b[39m\n",
      "\u001b[33m⌅\u001b[39m \u001b[90m[aea7be01] \u001b[39m\u001b[92m+ PrecompileTools v1.2.1\u001b[39m\n",
      "  \u001b[90m[21216c6a] \u001b[39m\u001b[92m+ Preferences v1.4.3\u001b[39m\n",
      "  \u001b[90m[08abe8d2] \u001b[39m\u001b[92m+ PrettyTables v2.4.0\u001b[39m\n",
      "  \u001b[90m[92933f4c] \u001b[39m\u001b[92m+ ProgressMeter v1.10.4\u001b[39m\n",
      "  \u001b[90m[43287f4e] \u001b[39m\u001b[92m+ PtrArrays v1.3.0\u001b[39m\n",
      "  \u001b[90m[4b34888f] \u001b[39m\u001b[92m+ QOI v1.0.1\u001b[39m\n",
      "  \u001b[90m[1fd47b50] \u001b[39m\u001b[92m+ QuadGK v2.11.2\u001b[39m\n",
      "  \u001b[90m[94ee1d12] \u001b[39m\u001b[92m+ Quaternions v0.7.6\u001b[39m\n",
      "  \u001b[90m[74087812] \u001b[39m\u001b[92m+ Random123 v1.7.0\u001b[39m\n",
      "  \u001b[90m[e6cf234a] \u001b[39m\u001b[92m+ RandomNumbers v1.6.0\u001b[39m\n",
      "  \u001b[90m[b3c3ace0] \u001b[39m\u001b[92m+ RangeArrays v0.3.2\u001b[39m\n",
      "  \u001b[90m[c84ed2f1] \u001b[39m\u001b[92m+ Ratios v0.4.5\u001b[39m\n",
      "  \u001b[90m[a3311ec8] \u001b[39m\u001b[92m+ ReactantCore v0.1.9\u001b[39m\n",
      "  \u001b[90m[c1ae055f] \u001b[39m\u001b[92m+ RealDot v0.1.0\u001b[39m\n",
      "  \u001b[90m[3cdcf5f2] \u001b[39m\u001b[92m+ RecipesBase v1.3.4\u001b[39m\n",
      "  \u001b[90m[189a3867] \u001b[39m\u001b[92m+ Reexport v1.2.2\u001b[39m\n",
      "  \u001b[90m[05181044] \u001b[39m\u001b[92m+ RelocatableFolders v1.0.1\u001b[39m\n",
      "  \u001b[90m[ae029012] \u001b[39m\u001b[92m+ Requires v1.3.1\u001b[39m\n",
      "  \u001b[90m[79098fc4] \u001b[39m\u001b[92m+ Rmath v0.8.0\u001b[39m\n",
      "  \u001b[90m[7181ea78] \u001b[39m\u001b[92m+ RootSolvers v0.4.4\u001b[39m\n",
      "  \u001b[90m[f2b01f46] \u001b[39m\u001b[92m+ Roots v2.2.7\u001b[39m\n",
      "  \u001b[90m[6038ab10] \u001b[39m\u001b[92m+ Rotations v1.7.1\u001b[39m\n",
      "  \u001b[90m[5eaf0fd0] \u001b[39m\u001b[92m+ RoundingEmulator v0.2.1\u001b[39m\n",
      "  \u001b[90m[fdea26ae] \u001b[39m\u001b[92m+ SIMD v3.7.1\u001b[39m\n",
      "  \u001b[90m[94e857df] \u001b[39m\u001b[92m+ SIMDTypes v0.1.0\u001b[39m\n",
      "  \u001b[90m[476501e8] \u001b[39m\u001b[92m+ SLEEFPirates v0.6.43\u001b[39m\n",
      "  \u001b[90m[7e506255] \u001b[39m\u001b[92m+ ScopedValues v1.3.0\u001b[39m\n",
      "  \u001b[90m[6c6a2e73] \u001b[39m\u001b[92m+ Scratch v1.2.1\u001b[39m\n",
      "  \u001b[90m[d496a93d] \u001b[39m\u001b[92m+ SeawaterPolynomials v0.3.10\u001b[39m\n",
      "  \u001b[90m[91c51154] \u001b[39m\u001b[92m+ SentinelArrays v1.4.8\u001b[39m\n",
      "  \u001b[90m[3cc68bcd] \u001b[39m\u001b[92m+ SetRounding v0.2.1\u001b[39m\n",
      "  \u001b[90m[65257c39] \u001b[39m\u001b[92m+ ShaderAbstractions v0.5.0\u001b[39m\n",
      "  \u001b[90m[992d4aef] \u001b[39m\u001b[92m+ Showoff v1.0.3\u001b[39m\n",
      "  \u001b[90m[73760f76] \u001b[39m\u001b[92m+ SignedDistanceFields v0.4.0\u001b[39m\n",
      "  \u001b[90m[777ac1f9] \u001b[39m\u001b[92m+ SimpleBufferStream v1.2.0\u001b[39m\n",
      "  \u001b[90m[699a6c99] \u001b[39m\u001b[92m+ SimpleTraits v0.9.4\u001b[39m\n",
      "  \u001b[90m[45858cf5] \u001b[39m\u001b[92m+ Sixel v0.1.3\u001b[39m\n",
      "  \u001b[90m[a2af1166] \u001b[39m\u001b[92m+ SortingAlgorithms v1.2.1\u001b[39m\n",
      "  \u001b[90m[276daf66] \u001b[39m\u001b[92m+ SpecialFunctions v2.5.1\u001b[39m\n",
      "  \u001b[90m[860ef19b] \u001b[39m\u001b[92m+ StableRNGs v1.0.2\u001b[39m\n",
      "  \u001b[90m[cae243ae] \u001b[39m\u001b[92m+ StackViews v0.1.1\u001b[39m\n",
      "  \u001b[90m[aedffcd0] \u001b[39m\u001b[92m+ Static v1.2.0\u001b[39m\n",
      "  \u001b[90m[0d7ed370] \u001b[39m\u001b[92m+ StaticArrayInterface v1.8.0\u001b[39m\n",
      "  \u001b[90m[90137ffa] \u001b[39m\u001b[92m+ StaticArrays v1.9.13\u001b[39m\n",
      "  \u001b[90m[1e83bf80] \u001b[39m\u001b[92m+ StaticArraysCore v1.4.3\u001b[39m\n",
      "  \u001b[90m[82ae8749] \u001b[39m\u001b[92m+ StatsAPI v1.7.0\u001b[39m\n",
      "  \u001b[90m[2913bbd2] \u001b[39m\u001b[92m+ StatsBase v0.34.4\u001b[39m\n",
      "  \u001b[90m[4c63d2b9] \u001b[39m\u001b[92m+ StatsFuns v1.4.0\u001b[39m\n",
      "  \u001b[90m[892a3eda] \u001b[39m\u001b[92m+ StringManipulation v0.4.1\u001b[39m\n",
      "  \u001b[90m[09ab397b] \u001b[39m\u001b[92m+ StructArrays v0.7.1\u001b[39m\n",
      "  \u001b[90m[49b00bb7] \u001b[39m\u001b[92m+ SurfaceFluxes v0.12.0\u001b[39m\n",
      "  \u001b[90m[dc5dba14] \u001b[39m\u001b[92m+ TZJData v1.5.0+2025b\u001b[39m\n",
      "  \u001b[90m[3783bdb8] \u001b[39m\u001b[92m+ TableTraits v1.0.1\u001b[39m\n",
      "  \u001b[90m[bd369af6] \u001b[39m\u001b[92m+ Tables v1.12.0\u001b[39m\n",
      "\u001b[33m⌅\u001b[39m \u001b[90m[6aa5eb33] \u001b[39m\u001b[92m+ TaylorSeries v0.18.5\u001b[39m\n",
      "  \u001b[90m[62fd8b95] \u001b[39m\u001b[92m+ TensorCore v0.1.1\u001b[39m\n",
      "  \u001b[90m[b60c26fb] \u001b[39m\u001b[92m+ Thermodynamics v0.12.10\u001b[39m\n",
      "  \u001b[90m[8290d209] \u001b[39m\u001b[92m+ ThreadingUtilities v0.5.3\u001b[39m\n",
      "  \u001b[90m[731e570b] \u001b[39m\u001b[92m+ TiffImages v0.11.3\u001b[39m\n",
      "  \u001b[90m[06e1c1a7] \u001b[39m\u001b[92m+ TiledIteration v0.5.0\u001b[39m\n",
      "  \u001b[90m[f269a46b] \u001b[39m\u001b[92m+ TimeZones v1.21.3\u001b[39m\n",
      "  \u001b[90m[a759f4b9] \u001b[39m\u001b[92m+ TimerOutputs v0.5.28\u001b[39m\n",
      "  \u001b[90m[bdfc003b] \u001b[39m\u001b[92m+ TimesDates v0.3.1\u001b[39m\n",
      "  \u001b[90m[3bb67fe8] \u001b[39m\u001b[92m+ TranscodingStreams v0.11.3\u001b[39m\n",
      "  \u001b[90m[981d1d27] \u001b[39m\u001b[92m+ TriplotBase v0.1.0\u001b[39m\n",
      "  \u001b[90m[5c2747f8] \u001b[39m\u001b[92m+ URIs v1.5.2\u001b[39m\n",
      "  \u001b[90m[3a884ed6] \u001b[39m\u001b[92m+ UnPack v1.0.2\u001b[39m\n",
      "  \u001b[90m[1cfade01] \u001b[39m\u001b[92m+ UnicodeFun v0.4.1\u001b[39m\n",
      "  \u001b[90m[1986cc42] \u001b[39m\u001b[92m+ Unitful v1.22.0\u001b[39m\n",
      "  \u001b[90m[013be700] \u001b[39m\u001b[92m+ UnsafeAtomics v0.3.0\u001b[39m\n",
      "  \u001b[90m[3d5dd08c] \u001b[39m\u001b[92m+ VectorizationBase v0.21.71\u001b[39m\n",
      "  \u001b[90m[e3aaa7dc] \u001b[39m\u001b[92m+ WebP v0.1.3\u001b[39m\n",
      "  \u001b[90m[efce3f68] \u001b[39m\u001b[92m+ WoodburyMatrices v1.0.0\u001b[39m\n",
      "  \u001b[90m[0b7ba130] \u001b[39m\u001b[92m+ Blosc_jll v1.21.7+0\u001b[39m\n",
      "  \u001b[90m[6e34b625] \u001b[39m\u001b[92m+ Bzip2_jll v1.0.9+0\u001b[39m\n",
      "  \u001b[90m[4e9b3aee] \u001b[39m\u001b[92m+ CRlibm_jll v1.0.1+0\u001b[39m\n",
      "  \u001b[90m[4ee394cb] \u001b[39m\u001b[92m+ CUDA_Driver_jll v0.12.1+1\u001b[39m\n",
      "  \u001b[90m[76a88914] \u001b[39m\u001b[92m+ CUDA_Runtime_jll v0.16.1+0\u001b[39m\n",
      "  \u001b[90m[83423d85] \u001b[39m\u001b[92m+ Cairo_jll v1.18.4+0\u001b[39m\n",
      "  \u001b[90m[5ae413db] \u001b[39m\u001b[92m+ EarCut_jll v2.2.4+0\u001b[39m\n",
      "  \u001b[90m[2e619515] \u001b[39m\u001b[92m+ Expat_jll v2.6.5+0\u001b[39m\n",
      "\u001b[33m⌅\u001b[39m \u001b[90m[b22a6f82] \u001b[39m\u001b[92m+ FFMPEG_jll v6.1.2+0\u001b[39m\n",
      "  \u001b[90m[f5851436] \u001b[39m\u001b[92m+ FFTW_jll v3.3.11+0\u001b[39m\n",
      "  \u001b[90m[a3f928ae] \u001b[39m\u001b[92m+ Fontconfig_jll v2.16.0+0\u001b[39m\n",
      "  \u001b[90m[d7e528f0] \u001b[39m\u001b[92m+ FreeType2_jll v2.13.4+0\u001b[39m\n",
      "  \u001b[90m[559328eb] \u001b[39m\u001b[92m+ FriBidi_jll v1.0.17+0\u001b[39m\n",
      "  \u001b[90m[78b55507] \u001b[39m\u001b[92m+ Gettext_jll v0.21.0+0\u001b[39m\n",
      "  \u001b[90m[59f7168a] \u001b[39m\u001b[92m+ Giflib_jll v5.2.3+0\u001b[39m\n",
      "\u001b[32m⌃\u001b[39m \u001b[90m[7746bdde] \u001b[39m\u001b[92m+ Glib_jll v2.82.4+0\u001b[39m\n",
      "  \u001b[90m[3b182d85] \u001b[39m\u001b[92m+ Graphite2_jll v1.3.15+0\u001b[39m\n",
      "  \u001b[90m[0234f1f7] \u001b[39m\u001b[92m+ HDF5_jll v1.14.6+0\u001b[39m\n",
      "  \u001b[90m[2e76f6c2] \u001b[39m\u001b[92m+ HarfBuzz_jll v8.5.0+0\u001b[39m\n",
      "  \u001b[90m[e33a78d0] \u001b[39m\u001b[92m+ Hwloc_jll v2.12.0+0\u001b[39m\n",
      "  \u001b[90m[905a6f67] \u001b[39m\u001b[92m+ Imath_jll v3.1.11+0\u001b[39m\n",
      "  \u001b[90m[1d5cc7b8] \u001b[39m\u001b[92m+ IntelOpenMP_jll v2025.0.4+0\u001b[39m\n",
      "  \u001b[90m[aacddb02] \u001b[39m\u001b[92m+ JpegTurbo_jll v3.1.1+0\u001b[39m\n",
      "  \u001b[90m[9c1d0b0a] \u001b[39m\u001b[92m+ JuliaNVTXCallbacks_jll v0.2.1+0\u001b[39m\n",
      "  \u001b[90m[c1c5ebd0] \u001b[39m\u001b[92m+ LAME_jll v3.100.2+0\u001b[39m\n",
      "  \u001b[90m[88015f11] \u001b[39m\u001b[92m+ LERC_jll v4.0.1+0\u001b[39m\n",
      "  \u001b[90m[dad2f222] \u001b[39m\u001b[92m+ LLVMExtra_jll v0.0.35+0\u001b[39m\n",
      "  \u001b[90m[1d63c593] \u001b[39m\u001b[92m+ LLVMOpenMP_jll v18.1.7+0\u001b[39m\n",
      "  \u001b[90m[dd4b983a] \u001b[39m\u001b[92m+ LZO_jll v2.10.3+0\u001b[39m\n",
      "\u001b[33m⌅\u001b[39m \u001b[90m[e9f186c6] \u001b[39m\u001b[92m+ Libffi_jll v3.2.2+2\u001b[39m\n",
      "  \u001b[90m[7e76a0d4] \u001b[39m\u001b[92m+ Libglvnd_jll v1.7.0+0\u001b[39m\n",
      "  \u001b[90m[94ce4f54] \u001b[39m\u001b[92m+ Libiconv_jll v1.18.0+0\u001b[39m\n",
      "  \u001b[90m[4b2f31a3] \u001b[39m\u001b[92m+ Libmount_jll v2.41.0+0\u001b[39m\n",
      "  \u001b[90m[89763e89] \u001b[39m\u001b[92m+ Libtiff_jll v4.7.1+0\u001b[39m\n",
      "  \u001b[90m[38a345b3] \u001b[39m\u001b[92m+ Libuuid_jll v2.41.0+0\u001b[39m\n",
      "  \u001b[90m[5ced341a] \u001b[39m\u001b[92m+ Lz4_jll v1.10.1+0\u001b[39m\n",
      "  \u001b[90m[d00139f3] \u001b[39m\u001b[92m+ METIS_jll v5.1.3+0\u001b[39m\n",
      "  \u001b[90m[856f044c] \u001b[39m\u001b[92m+ MKL_jll v2025.0.1+1\u001b[39m\n",
      "  \u001b[90m[7cb0a576] \u001b[39m\u001b[92m+ MPICH_jll v4.3.0+1\u001b[39m\n",
      "  \u001b[90m[f1f71cc9] \u001b[39m\u001b[92m+ MPItrampoline_jll v5.5.3+0\u001b[39m\n",
      "  \u001b[90m[9237b28f] \u001b[39m\u001b[92m+ MicrosoftMPI_jll v10.1.4+3\u001b[39m\n",
      "  \u001b[90m[e98f9f5b] \u001b[39m\u001b[92m+ NVTX_jll v3.1.1+0\u001b[39m\n",
      "  \u001b[90m[7243133f] \u001b[39m\u001b[92m+ NetCDF_jll v401.900.300+0\u001b[39m\n",
      "  \u001b[90m[e7412a2a] \u001b[39m\u001b[92m+ Ogg_jll v1.3.5+1\u001b[39m\n",
      "  \u001b[90m[18a262bb] \u001b[39m\u001b[92m+ OpenEXR_jll v3.2.4+0\u001b[39m\n",
      "  \u001b[90m[fe0851c0] \u001b[39m\u001b[92m+ OpenMPI_jll v5.0.7+2\u001b[39m\n",
      "  \u001b[90m[458c3c95] \u001b[39m\u001b[92m+ OpenSSL_jll v3.0.16+0\u001b[39m\n",
      "  \u001b[90m[efe28fd5] \u001b[39m\u001b[92m+ OpenSpecFun_jll v0.5.6+0\u001b[39m\n",
      "  \u001b[90m[91d4177d] \u001b[39m\u001b[92m+ Opus_jll v1.3.3+0\u001b[39m\n",
      "  \u001b[90m[36c8627f] \u001b[39m\u001b[92m+ Pango_jll v1.56.1+0\u001b[39m\n",
      "  \u001b[90m[30392449] \u001b[39m\u001b[92m+ Pixman_jll v0.44.2+0\u001b[39m\n",
      "  \u001b[90m[f50d1b31] \u001b[39m\u001b[92m+ Rmath_jll v0.5.1+0\u001b[39m\n",
      "\u001b[33m⌅\u001b[39m \u001b[90m[02c8fc9c] \u001b[39m\u001b[92m+ XML2_jll v2.13.6+1\u001b[39m\n",
      "  \u001b[90m[ffd25f8a] \u001b[39m\u001b[92m+ XZ_jll v5.8.1+0\u001b[39m\n",
      "  \u001b[90m[4f6342f7] \u001b[39m\u001b[92m+ Xorg_libX11_jll v1.8.12+0\u001b[39m\n",
      "  \u001b[90m[0c0b7dd1] \u001b[39m\u001b[92m+ Xorg_libXau_jll v1.0.13+0\u001b[39m\n",
      "  \u001b[90m[a3789734] \u001b[39m\u001b[92m+ Xorg_libXdmcp_jll v1.1.6+0\u001b[39m\n",
      "  \u001b[90m[1082639a] \u001b[39m\u001b[92m+ Xorg_libXext_jll v1.3.7+0\u001b[39m\n",
      "  \u001b[90m[ea2f1a96] \u001b[39m\u001b[92m+ Xorg_libXrender_jll v0.9.12+0\u001b[39m\n",
      "  \u001b[90m[c7cfdc94] \u001b[39m\u001b[92m+ Xorg_libxcb_jll v1.17.1+0\u001b[39m\n",
      "  \u001b[90m[c5fb5394] \u001b[39m\u001b[92m+ Xorg_xtrans_jll v1.6.0+0\u001b[39m\n",
      "  \u001b[90m[3161d3a3] \u001b[39m\u001b[92m+ Zstd_jll v1.5.7+1\u001b[39m\n",
      "  \u001b[90m[1e29f10c] \u001b[39m\u001b[92m+ demumble_jll v1.3.0+0\u001b[39m\n",
      "  \u001b[90m[9a68df92] \u001b[39m\u001b[92m+ isoband_jll v0.2.3+0\u001b[39m\n",
      "  \u001b[90m[477f73a3] \u001b[39m\u001b[92m+ libaec_jll v1.1.3+0\u001b[39m\n",
      "  \u001b[90m[a4ae2306] \u001b[39m\u001b[92m+ libaom_jll v3.11.0+0\u001b[39m\n",
      "  \u001b[90m[0ac62f75] \u001b[39m\u001b[92m+ libass_jll v0.15.2+0\u001b[39m\n",
      "  \u001b[90m[f638f0a6] \u001b[39m\u001b[92m+ libfdk_aac_jll v2.0.3+0\u001b[39m\n",
      "  \u001b[90m[b53b4c65] \u001b[39m\u001b[92m+ libpng_jll v1.6.47+0\u001b[39m\n",
      "  \u001b[90m[075b6546] \u001b[39m\u001b[92m+ libsixel_jll v1.10.5+0\u001b[39m\n",
      "  \u001b[90m[f27f6e37] \u001b[39m\u001b[92m+ libvorbis_jll v1.3.7+2\u001b[39m\n",
      "  \u001b[90m[c5f90fcd] \u001b[39m\u001b[92m+ libwebp_jll v1.5.0+0\u001b[39m\n",
      "  \u001b[90m[337d8026] \u001b[39m\u001b[92m+ libzip_jll v1.11.3+0\u001b[39m\n",
      "  \u001b[90m[1317d2d5] \u001b[39m\u001b[92m+ oneTBB_jll v2022.0.0+0\u001b[39m\n",
      "  \u001b[90m[1270edf5] \u001b[39m\u001b[92m+ x264_jll v10164.0.1+0\u001b[39m\n",
      "\u001b[33m⌅\u001b[39m \u001b[90m[dfaa095f] \u001b[39m\u001b[92m+ x265_jll v3.6.0+0\u001b[39m\n",
      "  \u001b[90m[0dad84c5] \u001b[39m\u001b[92m+ ArgTools v1.1.1\u001b[39m\n",
      "  \u001b[90m[56f22d72] \u001b[39m\u001b[92m+ Artifacts\u001b[39m\n",
      "  \u001b[90m[2a0f44e3] \u001b[39m\u001b[92m+ Base64\u001b[39m\n",
      "  \u001b[90m[8bf52ea8] \u001b[39m\u001b[92m+ CRC32c\u001b[39m\n",
      "  \u001b[90m[ade2ca70] \u001b[39m\u001b[92m+ Dates\u001b[39m\n",
      "  \u001b[90m[8ba89e20] \u001b[39m\u001b[92m+ Distributed\u001b[39m\n",
      "  \u001b[90m[f43a241f] \u001b[39m\u001b[92m+ Downloads v1.6.0\u001b[39m\n",
      "  \u001b[90m[7b1f6079] \u001b[39m\u001b[92m+ FileWatching\u001b[39m\n",
      "  \u001b[90m[9fa8497b] \u001b[39m\u001b[92m+ Future\u001b[39m\n",
      "  \u001b[90m[b77e0a4c] \u001b[39m\u001b[92m+ InteractiveUtils\u001b[39m\n",
      "  \u001b[90m[4af54fe1] \u001b[39m\u001b[92m+ LazyArtifacts\u001b[39m\n",
      "  \u001b[90m[b27032c2] \u001b[39m\u001b[92m+ LibCURL v0.6.4\u001b[39m\n",
      "  \u001b[90m[76f85450] \u001b[39m\u001b[92m+ LibGit2\u001b[39m\n",
      "  \u001b[90m[8f399da3] \u001b[39m\u001b[92m+ Libdl\u001b[39m\n",
      "  \u001b[90m[37e2e46d] \u001b[39m\u001b[92m+ LinearAlgebra\u001b[39m\n",
      "  \u001b[90m[56ddb016] \u001b[39m\u001b[92m+ Logging\u001b[39m\n",
      "  \u001b[90m[d6f4376e] \u001b[39m\u001b[92m+ Markdown\u001b[39m\n",
      "  \u001b[90m[a63ad114] \u001b[39m\u001b[92m+ Mmap\u001b[39m\n",
      "  \u001b[90m[ca575930] \u001b[39m\u001b[92m+ NetworkOptions v1.2.0\u001b[39m\n",
      "  \u001b[90m[44cfe95a] \u001b[39m\u001b[92m+ Pkg v1.10.0\u001b[39m\n",
      "  \u001b[90m[de0858da] \u001b[39m\u001b[92m+ Printf\u001b[39m\n",
      "  \u001b[90m[3fa0cd96] \u001b[39m\u001b[92m+ REPL\u001b[39m\n",
      "  \u001b[90m[9a3f8284] \u001b[39m\u001b[92m+ Random\u001b[39m\n",
      "  \u001b[90m[ea8e919c] \u001b[39m\u001b[92m+ SHA v0.7.0\u001b[39m\n",
      "  \u001b[90m[9e88b42a] \u001b[39m\u001b[92m+ Serialization\u001b[39m\n",
      "  \u001b[90m[1a1011a3] \u001b[39m\u001b[92m+ SharedArrays\u001b[39m\n",
      "  \u001b[90m[6462fe0b] \u001b[39m\u001b[92m+ Sockets\u001b[39m\n",
      "  \u001b[90m[2f01184e] \u001b[39m\u001b[92m+ SparseArrays v1.10.0\u001b[39m\n",
      "  \u001b[90m[10745b16] \u001b[39m\u001b[92m+ Statistics v1.10.0\u001b[39m\n",
      "  \u001b[90m[4607b0f0] \u001b[39m\u001b[92m+ SuiteSparse\u001b[39m\n",
      "  \u001b[90m[fa267f1f] \u001b[39m\u001b[92m+ TOML v1.0.3\u001b[39m\n",
      "  \u001b[90m[a4e569a6] \u001b[39m\u001b[92m+ Tar v1.10.0\u001b[39m\n",
      "  \u001b[90m[8dfed614] \u001b[39m\u001b[92m+ Test\u001b[39m\n",
      "  \u001b[90m[cf7118a7] \u001b[39m\u001b[92m+ UUIDs\u001b[39m\n",
      "  \u001b[90m[4ec0a83e] \u001b[39m\u001b[92m+ Unicode\u001b[39m\n",
      "  \u001b[90m[e66e0078] \u001b[39m\u001b[92m+ CompilerSupportLibraries_jll v1.1.1+0\u001b[39m\n",
      "  \u001b[90m[deac9b47] \u001b[39m\u001b[92m+ LibCURL_jll v8.4.0+0\u001b[39m\n",
      "  \u001b[90m[e37daf67] \u001b[39m\u001b[92m+ LibGit2_jll v1.6.4+0\u001b[39m\n",
      "  \u001b[90m[29816b5a] \u001b[39m\u001b[92m+ LibSSH2_jll v1.11.0+1\u001b[39m\n",
      "  \u001b[90m[c8ffd9c3] \u001b[39m\u001b[92m+ MbedTLS_jll v2.28.2+1\u001b[39m\n",
      "  \u001b[90m[14a3606d] \u001b[39m\u001b[92m+ MozillaCACerts_jll v2023.1.10\u001b[39m\n",
      "  \u001b[90m[4536629a] \u001b[39m\u001b[92m+ OpenBLAS_jll v0.3.23+4\u001b[39m\n",
      "  \u001b[90m[05823500] \u001b[39m\u001b[92m+ OpenLibm_jll v0.8.1+2\u001b[39m\n",
      "  \u001b[90m[efcefdf7] \u001b[39m\u001b[92m+ PCRE2_jll v10.42.0+1\u001b[39m\n",
      "  \u001b[90m[bea87d4a] \u001b[39m\u001b[92m+ SuiteSparse_jll v7.2.1+1\u001b[39m\n",
      "  \u001b[90m[83775a58] \u001b[39m\u001b[92m+ Zlib_jll v1.2.13+1\u001b[39m\n",
      "  \u001b[90m[8e850b90] \u001b[39m\u001b[92m+ libblastrampoline_jll v5.11.0+0\u001b[39m\n",
      "  \u001b[90m[8e850ede] \u001b[39m\u001b[92m+ nghttp2_jll v1.52.0+1\u001b[39m\n",
      "  \u001b[90m[3f19e933] \u001b[39m\u001b[92m+ p7zip_jll v17.4.0+2\u001b[39m\n",
      "\u001b[36m\u001b[1m        Info\u001b[22m\u001b[39m Packages marked with \u001b[32m⌃\u001b[39m and \u001b[33m⌅\u001b[39m have new versions available. Those with \u001b[32m⌃\u001b[39m may be upgradable, but those with \u001b[33m⌅\u001b[39m are restricted by compatibility constraints from upgrading. To see why use `status --outdated -m`\n",
      "\u001b[32m\u001b[1mPrecompiling\u001b[22m\u001b[39m packages...\n"
     ]
    }
   ],
   "source": [
    "using Pkg\n",
    "Pkg.activate(\"./\")\n",
    "Pkg.instantiate()\n",
    "\n",
    "using ClimaOcean\n",
    "using Oceananigans\n",
    "using Oceananigans.Units\n",
    "using Oceananigans.Grids\n",
    "using Dates\n",
    "using Printf\n",
    "using CairoMakie"
   ]
  },
  {
   "cell_type": "markdown",
   "metadata": {},
   "source": [
    "# Building a Global Ocean domain"
   ]
  },
  {
   "cell_type": "markdown",
   "metadata": {},
   "source": [
    "We will start building a global ocean in steps:\n",
    "- (1) specifying an **Architecture**\n",
    "- (2) choosing a **Vertical coordinate**\n",
    "- (2) Building a **Grid**\n",
    "- (3) Downloading an interpolating a **Bathymetry**"
   ]
  },
  {
   "cell_type": "markdown",
   "metadata": {},
   "source": [
    "### Architectures"
   ]
  },
  {
   "cell_type": "markdown",
   "metadata": {},
   "source": [
    "using an architecture is easy...\n",
    "it is possible to choose between:\n",
    "- (1) CPU\n",
    "- (2) GPU\n",
    "- (3) Distributed"
   ]
  },
  {
   "cell_type": "markdown",
   "metadata": {},
   "source": [
    "In this case, we select `CPU()`, which is always the right choice to start prototyping. Building the script on CPUs is better to catch potential bugs in the script.\n",
    "Once we know that everything works correctly, we can just change the following line to `arch = GPU()`, and voilá, the simulation runs on GPUs"
   ]
  },
  {
   "cell_type": "code",
   "execution_count": null,
   "metadata": {},
   "outputs": [],
   "source": [
    "arch = CPU()"
   ]
  },
  {
   "cell_type": "markdown",
   "metadata": {},
   "source": [
    "### Vertical coordinates"
   ]
  },
  {
   "cell_type": "markdown",
   "metadata": {},
   "source": [
    "Oceananigans currently supports only $z$ and $z^\\star$ coordinates.\n",
    "ClimaOcean provides a simple utility to build a simple exponential vertical coordinate"
   ]
  },
  {
   "cell_type": "code",
   "execution_count": null,
   "metadata": {},
   "outputs": [],
   "source": [
    "depth   = 6000meters\n",
    "Nz      = 10\n",
    "r_faces = ClimaOcean.exponential_z_faces(; Nz, depth)"
   ]
  },
  {
   "cell_type": "markdown",
   "metadata": {},
   "source": [
    "To use z-star coordinates we need to use a `z_faces = MutableVerticalDiscetization(r_faces)`, as opposed to a to\n",
    "a `StaticVerticalDiscretization`, to set up the data structures required for a free-surface\n",
    "following vertical coordinate."
   ]
  },
  {
   "cell_type": "code",
   "execution_count": null,
   "metadata": {},
   "outputs": [],
   "source": [
    "z_faces = MutableVerticalDiscretization(r_faces)"
   ]
  },
  {
   "cell_type": "markdown",
   "metadata": {},
   "source": [
    "## Building a grid"
   ]
  },
  {
   "cell_type": "markdown",
   "metadata": {},
   "source": [
    "ClimaOcean allows building ocean simulations on three different grid types:\n",
    "- `RectilinearGrid`s which represent a _box_ or a Cartesian domain\n",
    "- `LatitudeLongitudeGrid`s, which discretizes the sphere along latitude and longitude lines\n",
    "- `OrthogonalSphericalShellGrid`s which discretize the sphere with two-dimensional coordinates that do not need to follow latitude and longitude lines.\n",
    "   The only constraint is that the grid must be locally orthogonal in the horizontal direction.\n",
    "\n",
    "`LatitudeLongitudeGrid`s are the easiest grids to work with since coordinates are one-dimensional and globally orthogonal.\n",
    "(i.e. latitude depends only on the `j`-index and longitude depends only on the `i`-index)\n",
    "However, `LatitudeLongitudeGrid`s have the problem of the zonal spacing approaching zero as we move to the poles.\n",
    "\n",
    "For this reason, to represent a global ocean we use a specific type of `OrthogonalSphericalShellGrid`,\n",
    "called `TripolarGrid` that discretizes the sphere as a set of perpendicular ellipses and hyperbolae.\n",
    "\n",
    "Let's build a coarse `TripolarGrid` (about 4 degree resolution).\n",
    "We pass to the grid, the architecture, the floating point precision, the size of the grid, and the vertical coordinate."
   ]
  },
  {
   "cell_type": "code",
   "execution_count": null,
   "metadata": {},
   "outputs": [],
   "source": [
    "Nx   = 256 # longitudinal direction -> 256 points is about 1.5ᵒ resolution\n",
    "Ny   = 128 # meridional direction   -> same thing, 128 points is about 1.5ᵒ resolution\n",
    "Nz   = length(r_faces) - 1\n",
    "grid = TripolarGrid(arch, Float64; size=(Nx, Ny, Nz), z=z_faces)"
   ]
  },
  {
   "cell_type": "markdown",
   "metadata": {},
   "source": [
    "#### Let's visualize the grid using CairoMakie"
   ]
  },
  {
   "cell_type": "code",
   "execution_count": null,
   "metadata": {},
   "outputs": [],
   "source": [
    "cartesian_nodes, _ = Oceananigans.Utils.get_cartesian_nodes_and_vertices(grid, Face(), Face(), Center())\n",
    "xF, yF, zF = cartesian_nodes\n",
    "\n",
    "cartesian_nodes, _ = Oceananigans.Utils.get_cartesian_nodes_and_vertices(grid, Center(), Center(), Center())\n",
    "xC, yC, zC = cartesian_nodes\n",
    "\n",
    "φ = Oceananigans.Grids.φnodes(grid, Center(), Center())\n",
    "λ = Oceananigans.Grids.λnodes(grid, Center(), Center())\n",
    "\n",
    "fig = Figure(size=(1200, 300))\n",
    "axC = Axis(fig[1, 1])\n",
    "[vlines!(axC, i, color = :green, linewidth=0.5) for i in 1:5:Nx]\n",
    "[hlines!(axC, j, color = :green, linewidth=0.5) for j in 1:5:Ny]\n",
    "contour!(axC, φ, levels=-80:10:90, color=:blue, linewidth=0.8)\n",
    "contour!(axC, λ, levels=0:10:360,  color=:blue, linewidth=0.8)\n",
    "xlims!(axC, 1, Nx-1)\n",
    "ylims!(axC, 1, Ny-1)\n",
    "\n",
    "display(fig)"
   ]
  },
  {
   "cell_type": "markdown",
   "metadata": {},
   "source": [
    "## Adding a bathymetry to the grid\n",
    "\n",
    "ClimaOcean provides a nifty utility to regrid the bathymetry over the grid, the `regrid_bathymetry` function.\n",
    "By default ClimaOcean downloads the ETOPO_2022 bathymetry at 1/60ᵒ resolution (459 MB) from the NOAA servers.\n",
    "!!! NOTE: This will download the ETOPO_2022 bathymetry, so make sure that you have an internet connection"
   ]
  },
  {
   "cell_type": "code",
   "execution_count": null,
   "metadata": {},
   "outputs": [],
   "source": [
    "bottom_height = regrid_bathymetry(grid; minimum_depth=15, major_basins=1)\n",
    "\n",
    "grid = ImmersedBoundaryGrid(underlying_grid, GridFittedBottom(bottom_height); active_cells_map=true)\n",
    "fig = Figure(size = (800, 400))\n",
    "ax  = Axis(fig[1, 1])\n",
    "heatmap!(ax, interior(grid.immersed_boundary.bottom_height, :, :, 1), colormap=:deep)\n",
    "display(fig)\n"
   ]
  },
  {
   "cell_type": "markdown",
   "metadata": {},
   "source": [
    "# Configuring an Ocean model\n",
    "\n",
    "### Numerical details\n",
    "\n",
    "Oceananigans allows several numerical options.\n",
    "We use a WENO schemes for the advection of momentum and\n",
    "a centered scheme for tracer advection, to avoid implicit diapycnal diffusion of tracers.\n",
    "Stability in the momentum field is ensured by the WENO method. For the tracer field, since the centered\n",
    "scheme is dispersive, we need to add some explicit diffusion to avoid numerical instabilities."
   ]
  },
  {
   "cell_type": "code",
   "execution_count": null,
   "metadata": {},
   "outputs": [],
   "source": [
    "momentum_advection = WENOVectorInvariant(order=3)\n",
    "tracer_advection   = Centered()\n",
    "\n",
    "free_surface = SplitExplicitFreeSurface(grid; substeps=30)"
   ]
  },
  {
   "cell_type": "markdown",
   "metadata": {},
   "source": [
    "### Physical parameterizations\n",
    "\n",
    "We add a GM parameterization for mesoscale eddies and a CATKE vertical mixing scheme.\n",
    "All the closures require passing also the desired floating point precision of the model"
   ]
  },
  {
   "cell_type": "code",
   "execution_count": null,
   "metadata": {},
   "outputs": [],
   "source": [
    "using Oceananigans.TurbulenceClosures: IsopycnalSkewSymmetricDiffusivity\n",
    "using Oceananigans.TurbulenceClosures.TKEBasedVerticalDiffusivities: CATKEVerticalDiffusivity\n",
    "\n",
    "eddy_closure = IsopycnalSkewSymmetricDiffusivity(κ_skew=1e3, κ_symmetric=1e3)\n",
    "vertical_mixing = CATKEVerticalDiffusivity()\n",
    "\n",
    "closure = (eddy_closure, vertical_mixing)"
   ]
  },
  {
   "cell_type": "markdown",
   "metadata": {},
   "source": [
    "### Building the ocean simulation\n",
    "\n",
    "ClimaOcean provides a utility to build an ocean simulation with all the necessary components.\n",
    "The function `ocean_simulation` returns a `Simulation` object of a `HydrostaticFreeSurfaceModel` that has\n",
    "all the necessary components (BC, drag, etc) to run a global ocean simulation."
   ]
  },
  {
   "cell_type": "code",
   "execution_count": null,
   "metadata": {},
   "outputs": [],
   "source": [
    "ocean = ocean_simulation(grid;\n",
    "                         momentum_advection,\n",
    "                         tracer_advection,\n",
    "                         closure,\n",
    "                         free_surface)"
   ]
  },
  {
   "cell_type": "markdown",
   "metadata": {},
   "source": [
    "### Initialize our Ocean\n",
    "\n",
    "We use ECCO climatology to initialize the temperature and salinity fields.\n",
    "We can use the metadata we defined earlier to set the initial conditions.\n",
    "We use ECCO climatology to initialize the temperature and salinity fields. \n",
    "We can use the metadata we defined earlier to set the initial conditions. \n",
    "To do this we need to be able to download ECCO data. This is done automatically by `ClimaOcean` \n",
    "provided that you have credentials to access the ECCO data. To do so, follow the instructions detailed in\n",
    "**https://github.com/CliMA/ClimaOcean.jl/blob/main/src/DataWrangling/ECCO/README.md**.\n",
    "If this is not possible preprepared initial conditions can be downloaded by uncommenting the following lines:"
   ]
  },
  {
   "cell_type": "code",
   "execution_count": null,
   "metadata": {},
   "outputs": [],
   "source": [
    "# download(\"https://www.dropbox.com/scl/fi/rcvf3ryegvxlm8gnga87l/SALT_1993_01_inpainted.jld2?rlkey=ctz2ty1yh6yksse1izd7l7ltd&st=skmv636j&dl=0\", \"./SALT_1993_01_inpainted.jld2\")\n",
    "# download(\"https://www.dropbox.com/scl/fi/3m9sw2lk149zgat6p8nil/SALT_1993_01.nc?rlkey=j1bz8zttg5n5lb1dhi547b2vh&st=ootshgfb&dl=0\", \"./SALT_1993_01.nc\")\n",
    "# download(\"https://www.dropbox.com/scl/fi/kmucmk4wb5cd1ckez6ts7/THETA_1993_01_inpainted.jld2?rlkey=v04dxmkgnrve5ob0boe6b52jp&st=wpdksush&dl=0\", \"./THETA_1993_01_inpainted.jld2\")\n",
    "# download(\"https://www.dropbox.com/scl/fi/6yzx1fvfk5b6ygyhi4sin/THETA_1993_01.nc?rlkey=euca05m5deb4kl8ylmg5nkasx&st=b4ooh3rd&dl=0\", \"./THETA_1993_01.nc\")"
   ]
  },
  {
   "cell_type": "code",
   "execution_count": null,
   "metadata": {},
   "outputs": [],
   "source": [
    "using ClimaOcean.ECCO\n",
    "\n",
    "date    = DateTime(1992, 1, 1)\n",
    "dir     = \"./\"\n",
    "dataset = ECCO4Monthly()\n",
    "\n",
    "temperature = Metadatum(:temperature; dir, date, dataset)\n",
    "salinity    = Metadatum(:salinity;    dir, date, dataset)\n",
    "\n",
    "set!(ocean.model, T=temperature, S=salinity) "
   ]
  },
  {
   "cell_type": "markdown",
   "metadata": {},
   "source": [
    "### Visualizing the initial conditions\n",
    "\n",
    "Let's visualize the surface of our initialized ocean model"
   ]
  },
  {
   "cell_type": "code",
   "execution_count": null,
   "metadata": {},
   "outputs": [],
   "source": [
    "fig = Figure(size = (2000, 800))\n",
    "axT = Axis(fig[1, 1])\n",
    "axS = Axis(fig[1, 2])\n",
    "\n",
    "hmT = heatmap!(axT, interior(ocean.model.tracers.T, :, :, grid.Nz), colorrange=(-1, 30), colormap=:magma)\n",
    "hmS = heatmap!(axS, interior(ocean.model.tracers.S, :, :, grid.Nz), colorrange=(28, 38), colormap=:haline)\n",
    "Colorbar(fig[0, 1], hmT, vertical=false, label=\"Surface temperature ᵒC\")\n",
    "Colorbar(fig[0, 2], hmS, vertical=false, label=\"Surface salinity psu\")\n",
    "\n",
    "display(fig)"
   ]
  },
  {
   "cell_type": "markdown",
   "metadata": {},
   "source": [
    "# Adding an atmosphere\n",
    "\n",
    "ClimaOcean is a prototype for a coupled earth system model.\n",
    "It couples an atmosphere to an ocean and computes air-sea fluxes using bulk formulae.\n",
    "At the moment, ClimaOcean provides a utility to download the JRA55 atmospheric reanalysis\n",
    "and use it as a prescribed atmosphere.\n",
    "\n",
    "!!! NOTE: This will download the JRA55 atmospheric reanalysis, so make sure that you have an internet connection (and enough disk space)\n",
    "\n",
    "We use an idealized atmosphere for this tutorial to avoid downloading the JRA55 data (~15GB)."
   ]
  },
  {
   "cell_type": "code",
   "execution_count": null,
   "metadata": {},
   "outputs": [],
   "source": [
    "atmos_grid  = LatitudeLongitudeGrid(arch, Float32; size=(320, 200), latitude=(-90, 90), longitude=(0, 360), topology=(Periodic, Bounded, Flat))\n",
    "atmos_times = range(0, 360days, length=10)\n",
    "atmosphere  = PrescribedAtmosphere(atmos_grid, atmos_times)"
   ]
  },
  {
   "cell_type": "markdown",
   "metadata": {},
   "source": [
    "We set up the atmosphere with an idealized temperature and wind speed that do not change in time."
   ]
  },
  {
   "cell_type": "code",
   "execution_count": null,
   "metadata": {},
   "outputs": [],
   "source": [
    "Tₐ(λ, φ) = 220 + cosd(φ)^2 * 80\n",
    "uₐ(λ, φ) = 10 * sind(2φ)^2\n",
    "qₐ(λ, φ) = cosd(φ) * 3e-2\n",
    "\n",
    "for t in eachindex(atmos_times)\n",
    "    set!(atmosphere.tracers.T[t],    Tₐ)\n",
    "    set!(atmosphere.tracers.q[t],    qₐ)\n",
    "    set!(atmosphere.velocities.u[t], uₐ)\n",
    "end\n",
    "\n",
    "Oceananigans.BoundaryConditions.fill_halo_regions!(atmosphere.tracers)\n",
    "Oceananigans.BoundaryConditions.fill_halo_regions!(atmosphere.velocities)"
   ]
  },
  {
   "cell_type": "markdown",
   "metadata": {},
   "source": [
    "If we had a realistic atmosphere we would add radiative properties, however, since we do not have\n",
    "downwelling radiation, we decouple our ocean from incoming radiation."
   ]
  },
  {
   "cell_type": "code",
   "execution_count": null,
   "metadata": {},
   "outputs": [],
   "source": [
    "radiation = Radiation(ocean_albedo=1, ocean_emissivity=0) "
   ]
  },
  {
   "cell_type": "markdown",
   "metadata": {},
   "source": [
    "### Coupling the atmosphere to the ocean\n",
    "\n",
    "The `OceanSeaIceModel` is an `AbstractModel` defined in ClimaOcean that couples an ocean to an atmosphere and a sea ice component.\n",
    "For the moment, the sea-ice component is not implemented, so we will only couple the ocean to the atmosphere.\n",
    "Instead of the sea ice model, we limit the temperature of the ocean to the freezing temperature."
   ]
  },
  {
   "cell_type": "code",
   "execution_count": null,
   "metadata": {},
   "outputs": [],
   "source": [
    "earth_model = OceanSeaIceModel(ocean; atmosphere, radiation)"
   ]
  },
  {
   "cell_type": "markdown",
   "metadata": {},
   "source": [
    "### Building the simulation\n",
    "\n",
    "We build the simulation out of the `earth_model` as we would do for any other Oceananigans model.\n",
    "We start with a smallish time-step (5 minutes) and run only for 2 days to dissipate initialization shocks."
   ]
  },
  {
   "cell_type": "code",
   "execution_count": null,
   "metadata": {},
   "outputs": [],
   "source": [
    "earth = Simulation(earth_model; Δt=30minutes, stop_time=30days)"
   ]
  },
  {
   "cell_type": "markdown",
   "metadata": {},
   "source": [
    "### Adding some diagnostics\n",
    "\n",
    "We add a callback to save surface fields as well as surface fluxes, every 6 hours"
   ]
  },
  {
   "cell_type": "code",
   "execution_count": null,
   "metadata": {},
   "outputs": [],
   "source": [
    "u, v, _ = ocean.model.velocities\n",
    "T = ocean.model.tracers.T\n",
    "S = ocean.model.tracers.S\n",
    "s = sqrt(u^2 + v^2)\n",
    "\n",
    "η = ocean.model.free_surface.η\n",
    "\n",
    "earth.output_writers[:surface_tracers] = JLD2Writer(ocean.model, (; T, S, s),\n",
    "                                                    schedule = TimeInterval(12hours),\n",
    "                                                    indices = (:, :, grid.Nz),\n",
    "                                                    overwrite_existing = true,\n",
    "                                                    filename = \"surface_fields.jld2\")\n",
    "\n",
    "\n",
    "earth.output_writers[:free_surface] = JLD2Writer(ocean.model, (; η),\n",
    "                                                 schedule = TimeInterval(12hours),\n",
    "                                                 overwrite_existing = true,\n",
    "                                                 filename = \"free_surface.jld2\")\n",
    "\n",
    "Q  = earth.model.interfaces.net_fluxes.ocean_surface.Q\n",
    "τx = earth.model.interfaces.net_fluxes.ocean_surface.u\n",
    "τy = earth.model.interfaces.net_fluxes.ocean_surface.v\n",
    "PE = earth.model.interfaces.net_fluxes.ocean_surface.S\n",
    "\n",
    "earth.output_writers[:fluxes] = JLD2Writer(ocean.model, (; Q, τx, τy, PE),\n",
    "                                           schedule = TimeInterval(12hours),\n",
    "                                           overwrite_existing = true,\n",
    "                                           filename = \"surface_fluxes.jld2\")"
   ]
  },
  {
   "cell_type": "markdown",
   "metadata": {},
   "source": [
    "Also, we add a callback to print a message about how the simulation is going"
   ]
  },
  {
   "cell_type": "code",
   "execution_count": null,
   "metadata": {},
   "outputs": [],
   "source": [
    "wall_time = [time_ns()]\n",
    "\n",
    "function progress(earth)\n",
    "    clock   = earth.model.clock\n",
    "\n",
    "    maxu = maximum(abs, u)\n",
    "    maxv = maximum(abs, v)\n",
    "    maxT = maximum(T)\n",
    "    minS = minimum(S)\n",
    "\n",
    "    @info @sprintf(\"Iteration: %d, time: %s, wall_time: %s, max(|u|, |v|): %.2e %.2e max(T): %.2e, min(S): %.2e\\n\",\n",
    "                   clock.iteration, prettytime(clock.time), prettytime(1e-9 * (time_ns() - wall_time[1])), maxu, maxv, maxT, minS)\n",
    "\n",
    "    wall_time[1] = time_ns()\n",
    "end\n",
    "\n",
    "add_callback!(earth, progress, IterationInterval(10))"
   ]
  },
  {
   "cell_type": "markdown",
   "metadata": {},
   "source": [
    "### Running the simulation\n",
    "\n",
    "quite simply"
   ]
  },
  {
   "cell_type": "code",
   "execution_count": null,
   "metadata": {},
   "outputs": [],
   "source": [
    "run!(earth)"
   ]
  },
  {
   "cell_type": "markdown",
   "metadata": {},
   "source": [
    "## Visualizing the results\n",
    "\n",
    "We can visualize the results using CairoMakie. We record a video of surface variables and fluxes.\n",
    "To load the data we can use Oceananigans' `FieldTimeSeries` object."
   ]
  },
  {
   "cell_type": "code",
   "execution_count": null,
   "metadata": {},
   "outputs": [],
   "source": [
    "using JLD2\n",
    "using Oceananigans\n",
    "using Oceananigans.Grids: halo_size\n",
    "using CairoMakie\n",
    "using Statistics: mean\n",
    "\n",
    "file  = jldopen(\"free_surface.jld2\")\n",
    "iters = keys(file[\"timeseries/t\"])\n",
    "\n",
    "Hx, Hy, _ = halo_size(η.grid)\n",
    "T  = FieldTimeSeries(\"surface_fields.jld2\", \"T\")\n",
    "S  = FieldTimeSeries(\"surface_fields.jld2\", \"S\")\n",
    "s  = FieldTimeSeries(\"surface_fields.jld2\", \"s\")\n",
    "\n",
    "n  = Observable(1)\n",
    "Tn = @lift(interior(T[$n], :, :, 1))\n",
    "Sn = @lift(interior(S[$n], :, :, 1))\n",
    "sn = @lift(interior(s[$n], :, :, 1))\n",
    "ηn = @lift(file[\"timeseries/η/\" * iters[$n]][Hx+1:end-Hx, Hy+1:end-Hy, 1])\n",
    "\n",
    "fig = Figure(size = (1800, 800))\n",
    "axT = Axis(fig[1, 1], title=\"Surface temperature ᵒC\")\n",
    "axS = Axis(fig[1, 2], title=\"Surface salinity psu\")\n",
    "axs = Axis(fig[2, 1], title=\"Surface speed ms⁻¹\")\n",
    "axη = Axis(fig[2, 2], title=\"Sea surface height m\")\n",
    "\n",
    "λ, φ, z = nodes(T[1])\n",
    "\n",
    "hmT = heatmap!(axT, Tn, colormap=:magma,  colorrange=(-1, 30))\n",
    "hmS = heatmap!(axS, Sn, colormap=:haline, colorrange=(25, 40))\n",
    "hms = heatmap!(axs, sn, colormap=:deep,   colorrange=( 0, 0.8))\n",
    "hmη = heatmap!(axη, ηn, colormap=:bwr,    colorrange=(-1, 1))\n",
    "\n",
    "CairoMakie.record(fig, \"surface_fields.gif\", 1:length(T.times); framerate=5) do i\n",
    "    @info \"doing $i of $(length(T.times))\"\n",
    "    n[] = i\n",
    "end"
   ]
  },
  {
   "cell_type": "code",
   "execution_count": null,
   "metadata": {},
   "outputs": [],
   "source": [
    "display(MIME\"image/png\"(), read(open(\"surface_fields.gif\")))"
   ]
  },
  {
   "cell_type": "markdown",
   "metadata": {},
   "source": [
    "let's also visualize the surface fluxes that force the model"
   ]
  },
  {
   "cell_type": "code",
   "execution_count": null,
   "metadata": {},
   "outputs": [],
   "source": [
    "Q  = FieldTimeSeries(\"surface_fluxes.jld2\", \"Q\")\n",
    "τx = FieldTimeSeries(\"surface_fluxes.jld2\", \"τx\")\n",
    "τy = FieldTimeSeries(\"surface_fluxes.jld2\", \"τy\")\n",
    "PE = FieldTimeSeries(\"surface_fluxes.jld2\", \"PE\")\n",
    "\n",
    "Qn  = @lift(interior(Q[$n],  :, :, 1))\n",
    "τxn = @lift(interior(τx[$n], :, :, 1))\n",
    "τyn = @lift(interior(τy[$n], :, :, 1))\n",
    "PEn = @lift(interior(PE[$n], :, :, 1))\n",
    "\n",
    "fig  = Figure(size = (1800, 800))\n",
    "axQ  = Axis(fig[1, 1], title=\"Net heat flux Wm⁻²\")\n",
    "axPE = Axis(fig[1, 2], title=\"Net salt flux psu m s⁻¹\")\n",
    "axτx = Axis(fig[2, 1], title=\"Zonal wind stress Nm⁻²\")\n",
    "axτy = Axis(fig[2, 2], title=\"Meridional wind stress Nm⁻²\")\n",
    "\n",
    "hmQ  = heatmap!(axQ,  Qn,  colormap=:magma,   colorrange=(-800,  800))\n",
    "hmPE = heatmap!(axPE, PEn, colormap=:haline,  colorrange=(-1e-5, 5e-5))\n",
    "hmτx = heatmap!(axτx, τxn, colormap=:balance, colorrange=(-5e-4, 5e-4))\n",
    "hmτy = heatmap!(axτy, τyn, colormap=:balance, colorrange=(-5e-4, 5e-4))\n",
    "\n",
    "CairoMakie.record(fig, \"surface_fluxes.gif\", 1:length(Q.times); framerate=5) do i\n",
    "    @info \"doing $i of $(length(Q.times))\"\n",
    "    n[] = i\n",
    "end"
   ]
  },
  {
   "cell_type": "code",
   "execution_count": null,
   "metadata": {},
   "outputs": [],
   "source": [
    "display(MIME\"image/png\"(), read(open(\"surface_fluxes.gif\")))"
   ]
  },
  {
   "cell_type": "markdown",
   "metadata": {},
   "source": [
    "Let's visualize the internal structure of temperature and salinity"
   ]
  },
  {
   "cell_type": "code",
   "execution_count": null,
   "metadata": {},
   "outputs": [],
   "source": [
    "x, y, z = nodes(ocean.model.tracers.T)\n",
    "\n",
    "fig = Figure(size = (1200, 400))\n",
    "axT = Axis(fig[1, 1], title=\"Internal temperature structure ᵒC\")\n",
    "axS = Axis(fig[1, 2], title=\"Internal salinity structure psu\")\n",
    "\n",
    "contourf!(axT, 1:128, z, interior(mean(ocean.model.tracers.T, dims=1), 1, :, :), colormap=:magma)\n",
    "contourf!(axS, 1:128, z, interior(mean(ocean.model.tracers.S, dims=1), 1, :, :), colormap=:haline)\n",
    "display(fig)"
   ]
  },
  {
   "cell_type": "markdown",
   "metadata": {},
   "source": [
    "# Running a high-resolution simulation\n",
    "\n",
    "What are the steps to modify the above script to run an eddying (quarter degree) simulation?"
   ]
  },
  {
   "cell_type": "code",
   "execution_count": null,
   "metadata": {},
   "outputs": [],
   "source": []
  }
 ],
 "metadata": {
  "kernelspec": {
   "display_name": "MyJulia O0 1.10.8",
   "language": "julia",
   "name": "myjulia-o0-1.10"
  },
  "language_info": {
   "file_extension": ".jl",
   "mimetype": "application/julia",
   "name": "julia",
   "version": "1.10.8"
  }
 },
 "nbformat": 4,
 "nbformat_minor": 4
}
