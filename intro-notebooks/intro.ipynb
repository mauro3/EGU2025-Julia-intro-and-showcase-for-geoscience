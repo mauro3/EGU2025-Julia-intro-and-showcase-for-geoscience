{
 "cells": [
  {
   "cell_type": "markdown",
   "source": [
    "# Introduction to Julia\n",
    "\n",
    "![julia-logo](./figures/l1_julia-logo.png)"
   ],
   "metadata": {
    "name": "A slide ",
    "slideshow": {
     "slide_type": "slide"
    }
   }
  },
  {
   "cell_type": "markdown",
   "source": [
    "# The team (@github handles)\n",
    "\n",
    "- Simone Silvestri (@simone-silvestri)\n",
    "  - 1\n",
    "  - 1\n",
    "- Ludovic Raess (@luraess)\n",
    "  - 2\n",
    "  - 2\n",
    "- Milan Kloewer (@milankl)\n",
    "  - 3\n",
    "  - 3\n",
    "- Lazaro Alonso (@lazarusA)\n",
    "  - scientist by day, plotting wizard by night\n",
    "  - regular on Julia-discord, slack\n",
    "- Mauro Werder (@mauro3)\n",
    "  - glaciologist by day\n",
    "  - programming Julia since 2013, maintainer of a few Julia packages"
   ],
   "metadata": {
    "name": "A slide ",
    "slideshow": {
     "slide_type": "slide"
    }
   }
  },
  {
   "cell_type": "markdown",
   "source": [
    "# The format\n",
    "\n",
    "Material is on GitHub https://github.com/mauro3/EGU2025-Julia-intro-and-showcase-for-geoscience\n",
    "\n",
    "We try to make this short course a little interactive:\n",
    "- either follow along with your local Julia & Jupyter install, or\n",
    "- use Google Colab\n",
    "\n",
    "to run (some of) the notebooks"
   ],
   "metadata": {
    "name": "A slide ",
    "slideshow": {
     "slide_type": "slide"
    }
   }
  },
  {
   "cell_type": "markdown",
   "source": [
    "## In case someone doesn't know: Jupyter Notebooks\n",
    "\n",
    "This is a [Jupyter notebook](https://jupyter.org/); a browser-based computational notebook.\n",
    "\n",
    "Code cells are executed by putting the cursor into the cell and hitting `shift + enter`.  For more\n",
    "info see the [documentation](https://jupyter-notebook.readthedocs.io/en/stable/)."
   ],
   "metadata": {
    "name": "A slide ",
    "slideshow": {
     "slide_type": "slide"
    }
   }
  },
  {
   "cell_type": "markdown",
   "source": [
    "## The Julia programming language\n",
    "\n",
    "[Julia](https://julialang.org/) is a modern, interactive, and high performance programming language.  It's a general purpose\n",
    "language with a bend on technical computing.\n",
    "\n",
    "![julia-logo](./figures/l1_julia-logo-repl.png)\n",
    "\n",
    "- first released in 2012\n",
    "- reached version 1.0 in 2018\n",
    "- current version 1.11 (04.2025)\n",
    "- thriving community, for instance there are currently around 12000 [packages registered](https://juliahub.com/ui/Packages)"
   ],
   "metadata": {
    "name": "A slide ",
    "slideshow": {
     "slide_type": "slide"
    }
   }
  },
  {
   "cell_type": "markdown",
   "source": [
    "### What does Julia look like\n",
    "\n",
    "An example solving the Lorenz system of ODEs:"
   ],
   "metadata": {
    "name": "A slide ",
    "slideshow": {
     "slide_type": "slide"
    }
   }
  },
  {
   "outputs": [],
   "cell_type": "code",
   "source": [
    "function lorenz(x)\n",
    "    σ = 10\n",
    "    β = 8/3\n",
    "    ρ = 28\n",
    "    [σ    * (x[2] - x[1]),\n",
    "     x[1] * (ρ - x[3]) - x[2],\n",
    "     x[1]*x[2] - β*x[3]]\n",
    "end\n",
    "\n",
    "# integrate dx/dt = lorenz(t,x) numerically for 500 steps\n",
    "dt = 0.01\n",
    "x₀ = [2.0, 0.0, 0.0]\n",
    "out = zeros(3, 500)\n",
    "out[:,1] = x₀\n",
    "for i=2:size(out,2)\n",
    "    out[:,i] = out[:,i-1] + lorenz(out[:,i-1]) * dt\n",
    "end"
   ],
   "metadata": {},
   "execution_count": null
  },
  {
   "cell_type": "markdown",
   "source": [
    "And its solution plotted"
   ],
   "metadata": {
    "name": "A slide ",
    "slideshow": {
     "slide_type": "slide"
    }
   }
  },
  {
   "outputs": [],
   "cell_type": "code",
   "source": [
    "using CairoMakie\n",
    "lines(out[1,:], out[2,:], out[3,:])"
   ],
   "metadata": {},
   "execution_count": null
  },
  {
   "cell_type": "markdown",
   "source": [
    "### Julia in brief\n",
    "Julia 1.0 released 2018, now at version 1.11\n",
    "\n",
    "Features:\n",
    "- general purpose language with a focus on technical computing\n",
    "- dynamic language\n",
    "- interactive development\n",
    "- good performance on par with C & Fortran\n",
    "  - just-ahead-of-time compiled via LLVM\n",
    "  - No need to vectorise: for loops are fast\n",
    "- multiple dispatch\n",
    "- user-defined types are as fast and compact as built-ins\n",
    "- Lisp-like macros and other metaprogramming facilities\n",
    "- designed for parallelism and distributed computation\n",
    "- good inter-op with other languages"
   ],
   "metadata": {
    "name": "A slide ",
    "slideshow": {
     "slide_type": "slide"
    }
   }
  },
  {
   "cell_type": "markdown",
   "source": [
    "### The two language problem\n",
    "\n",
    "**One language to prototype   --  one language for production**\n",
    "- example from a co-worker: prototype in Matlab, production in CUDA-C\n",
    "\n",
    "**One language for the users  --  one language for under-the-hood**\n",
    "- Numpy (python -- C)\n",
    "- machine-learning: pytorch, tensorflow"
   ],
   "metadata": {
    "name": "A slide ",
    "slideshow": {
     "slide_type": "slide"
    }
   }
  },
  {
   "cell_type": "markdown",
   "source": [
    "![](./figures/l1_ml.png)"
   ],
   "metadata": {
    "name": "A slide ",
    "slideshow": {
     "slide_type": "fragment"
    }
   }
  },
  {
   "cell_type": "markdown",
   "source": [
    "### The two language problem\n",
    "\n",
    "Prototype/interface language:\n",
    "- easy to learn and use\n",
    "- interactive\n",
    "- productive\n",
    "- --> *but slow*\n",
    "- Examples: Python, Matlab, R, IDL...\n",
    "\n",
    "Production/fast language:\n",
    "- fast\n",
    "- --> *but* complicated/verbose/not-interactive/etc\n",
    "- Examples: C, C++, Fortran, Java..."
   ],
   "metadata": {
    "name": "A slide ",
    "slideshow": {
     "slide_type": "slide"
    }
   }
  },
  {
   "cell_type": "markdown",
   "source": [
    "###  Julia solves the two-language problem (mostly)\n",
    "\n",
    "Julia is:\n",
    "- easy to learn and use\n",
    "- interactive\n",
    "- productive\n",
    "\n",
    "and also: **fast**"
   ],
   "metadata": {
    "name": "A slide ",
    "slideshow": {
     "slide_type": "slide"
    }
   }
  },
  {
   "cell_type": "markdown",
   "source": [
    "![](./figures/l1_flux-vs-tensorflow.png)"
   ],
   "metadata": {
    "name": "A slide ",
    "slideshow": {
     "slide_type": "fragment"
    }
   }
  },
  {
   "cell_type": "markdown",
   "source": [
    "# Outline of rest of short course\n",
    "\n",
    "### Showcase of geoscience applications and visualisation\n",
    "\n",
    "### Hands-on session to learn the basics to get you started with Julia"
   ],
   "metadata": {
    "name": "A slide ",
    "slideshow": {
     "slide_type": "slide"
    }
   }
  }
 ],
 "nbformat_minor": 3,
 "metadata": {
  "language_info": {
   "file_extension": ".jl",
   "mimetype": "application/julia",
   "name": "julia",
   "version": "1.10.9"
  },
  "kernelspec": {
   "name": "julia-1.10",
   "display_name": "Julia 1.10.9",
   "language": "julia"
  }
 },
 "nbformat": 4
}
