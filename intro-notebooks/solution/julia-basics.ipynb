{
 "cells": [
  {
   "cell_type": "markdown",
   "source": [
    "###  Let's get our hands dirty!\n",
    "\n",
    "Local install, run this to make sure packages are installed (this may take a while):"
   ],
   "metadata": {
    "name": "A slide ",
    "slideshow": {
     "slide_type": "slide"
    }
   }
  },
  {
   "outputs": [],
   "cell_type": "code",
   "source": [
    "# using Pkg; Pkg.instantiate()"
   ],
   "metadata": {},
   "execution_count": 1
  },
  {
   "cell_type": "markdown",
   "source": [
    "Google Colab:\n",
    "- head to [github.com/mauro3/EGU2025-Julia-intro-and-showcase-for-geoscience](https://github.com/mauro3/EGU2025-Julia-intro-and-showcase-for-geoscience?tab=readme-ov-file#running-on-google-colab)\n",
    "- click on the link for the notebook you want to start up on Colab. This one is [`julia-basics.ipynb`](https://colab.research.google.com/github/mauro3/EGU2025-Julia-intro-and-showcase-for-geoscience/blob/main/intro-notebooks/julia-basics.ipynb#scrollTo=hauaC-M8PtMP)\n",
    "- in the menu \"Runtime\"->\"Change runtime type\"->\"Julia\" (no, leaving it at \"Julia v10.9\" does not work...)\n",
    "- uncomment code in below code-block and run it (this may take a while):"
   ],
   "metadata": {}
  },
  {
   "outputs": [],
   "cell_type": "code",
   "source": [
    "# using Pkg; Pkg.add(\"CairoMakie\")"
   ],
   "metadata": {},
   "execution_count": 2
  },
  {
   "cell_type": "markdown",
   "source": [
    "You should find three Jupyter notebooks:\n",
    "- `julia-basics.jl`  -- this very notebook\n",
    "- `geo-ecosystem.ipynb` -- intro to geo-data processing and visualisation\n",
    "- `diff-eqs.ipynb` -- intro to solving and inverting ordinary differential equations\n",
    "\n",
    "Note that they are all on GitHub, on the repo for this short course:\n",
    "[github.com/mauro3/EGU2025-Julia-intro-and-showcase-for-geoscience](https://github.com/mauro3/EGU2025-Julia-intro-and-showcase-for-geoscience)\n",
    "- -> there are also solution notebooks provided there!"
   ],
   "metadata": {
    "name": "A slide ",
    "slideshow": {
     "slide_type": "fragment"
    }
   }
  },
  {
   "cell_type": "markdown",
   "source": [
    "###  Let's get our hands dirty!\n",
    "\n",
    "We will now look at\n",
    "- variables and types\n",
    "- control flow\n",
    "- functions\n",
    "- modules and packages"
   ],
   "metadata": {
    "name": "A slide ",
    "slideshow": {
     "slide_type": "slide"
    }
   }
  },
  {
   "cell_type": "markdown",
   "source": [
    "The documentation of Julia is good and can be found at [https://docs.julialang.org](https://docs.julialang.org); although for learning it might be a bit terse...\n",
    "\n",
    "There are also tutorials, see [https://julialang.org/learning/](https://julialang.org/learning/).\n",
    "\n",
    "Furthermore, documentation can be gotten with `?xyz`.  Try it (in Jupyter notebooks this needs to be in a cell of its own):"
   ],
   "metadata": {}
  },
  {
   "outputs": [],
   "cell_type": "code",
   "source": [
    "# ?cos"
   ],
   "metadata": {},
   "execution_count": 3
  },
  {
   "cell_type": "markdown",
   "source": [
    "## Variables, assignments, and types [5min]\n",
    "[https://docs.julialang.org/en/v1/manual/variables/](https://docs.julialang.org/en/v1/manual/variables/)"
   ],
   "metadata": {
    "name": "A slide ",
    "slideshow": {
     "slide_type": "slide"
    }
   }
  },
  {
   "outputs": [
    {
     "output_type": "execute_result",
     "data": {
      "text/plain": "\"a string\""
     },
     "metadata": {},
     "execution_count": 4
    }
   ],
   "cell_type": "code",
   "source": [
    "a = 4\n",
    "b = \"a string\"\n",
    "c = b # now b and c bind to the same value"
   ],
   "metadata": {},
   "execution_count": 4
  },
  {
   "cell_type": "markdown",
   "source": [
    "Conventions:\n",
    "- variables are (usually) lowercase, words can be separated by `_`\n",
    "- function names are lowercase\n",
    "- modules, packages and types are in CamelCase"
   ],
   "metadata": {}
  },
  {
   "cell_type": "markdown",
   "source": [
    "### Variables: Unicode\n",
    "From [https://docs.julialang.org/en/v1/manual/variables/](https://docs.julialang.org/en/v1/manual/variables/):\n",
    "\n",
    "Unicode names (in UTF-8 encoding) are allowed and typed in LaTeX notation.  Try making a variable\n",
    "- `δ = 99` with `\\delta`+tab\n",
    "- `x² = 25` with `x\\^2`+tab\n",
    "\n",
    "**Note for Colab**: unicode input in Colab does not work yet. As a work around, you can input it as\n",
    "described above in a text-field and then copy it to a code-field. https://github.com/googlecolab/colabtools/issues/5218"
   ],
   "metadata": {
    "name": "A slide ",
    "slideshow": {
     "slide_type": "slide"
    }
   }
  },
  {
   "outputs": [
    {
     "output_type": "execute_result",
     "data": {
      "text/plain": "25"
     },
     "metadata": {},
     "execution_count": 5
    }
   ],
   "cell_type": "code",
   "source": [
    "δ = 99\n",
    "x² = 25"
   ],
   "metadata": {},
   "execution_count": 5
  },
  {
   "cell_type": "markdown",
   "source": [
    "### Basic datatypes\n",
    "- numbers (Ints, Floats, Complex, etc.)\n",
    "- strings\n",
    "- tuples\n",
    "- arrays\n",
    "- dictionaries"
   ],
   "metadata": {
    "name": "A slide ",
    "slideshow": {
     "slide_type": "slide"
    }
   }
  },
  {
   "outputs": [
    {
     "output_type": "execute_result",
     "data": {
      "text/plain": "1//2"
     },
     "metadata": {},
     "execution_count": 6
    }
   ],
   "cell_type": "code",
   "source": [
    "1     # 64 bit integer (or 32 bit if on a 32-bit OS)\n",
    "1.5   # Float64\n",
    "1//2  # Rational"
   ],
   "metadata": {},
   "execution_count": 6
  },
  {
   "outputs": [
    {
     "output_type": "execute_result",
     "data": {
      "text/plain": "Float64"
     },
     "metadata": {},
     "execution_count": 7
    }
   ],
   "cell_type": "code",
   "source": [
    "typeof(1.5)"
   ],
   "metadata": {},
   "execution_count": 7
  },
  {
   "outputs": [
    {
     "output_type": "execute_result",
     "data": {
      "text/plain": "(\"a string\", (1, 3.5))"
     },
     "metadata": {},
     "execution_count": 8
    }
   ],
   "cell_type": "code",
   "source": [
    "\"a string\", (1, 3.5) # and tuple"
   ],
   "metadata": {},
   "execution_count": 8
  },
  {
   "outputs": [
    {
     "output_type": "execute_result",
     "data": {
      "text/plain": "3-element Vector{Int64}:\n 1\n 2\n 3"
     },
     "metadata": {},
     "execution_count": 9
    }
   ],
   "cell_type": "code",
   "source": [
    "[1, 2, 3,] # array of eltype Int"
   ],
   "metadata": {},
   "execution_count": 9
  },
  {
   "outputs": [
    {
     "output_type": "execute_result",
     "data": {
      "text/plain": "Dict{String, Any} with 2 entries:\n  \"b\" => cos\n  \"a\" => 1"
     },
     "metadata": {},
     "execution_count": 10
    }
   ],
   "cell_type": "code",
   "source": [
    "Dict(\"a\"=>1, \"b\"=>cos)"
   ],
   "metadata": {},
   "execution_count": 10
  },
  {
   "cell_type": "markdown",
   "source": [
    "## Array exercises [3min]\n",
    "\n",
    "Arrays are the bread and butter of science...\n",
    "\n",
    "- indexing starts at 1\n",
    "- uses `[]`"
   ],
   "metadata": {
    "name": "A slide ",
    "slideshow": {
     "slide_type": "slide"
    }
   }
  },
  {
   "cell_type": "markdown",
   "source": [
    "Task: assign vectors to `a`, and `b` and the concatenate them using `;`:"
   ],
   "metadata": {}
  },
  {
   "outputs": [
    {
     "output_type": "execute_result",
     "data": {
      "text/plain": "4-element Vector{Int64}:\n 2\n 3\n 4\n 5"
     },
     "metadata": {},
     "execution_count": 11
    }
   ],
   "cell_type": "code",
   "source": [
    "a = [2, 3]\n",
    "b = [4, 5]\n",
    "[a ; b]"
   ],
   "metadata": {},
   "execution_count": 11
  },
  {
   "cell_type": "markdown",
   "source": [
    "Add new elements to the end of Vector `b` (hint look up the documentation for `push!`)"
   ],
   "metadata": {}
  },
  {
   "outputs": [
    {
     "output_type": "execute_result",
     "data": {
      "text/plain": "5-element Vector{Int64}:\n 4\n 5\n 1\n 3\n 4"
     },
     "metadata": {},
     "execution_count": 12
    }
   ],
   "cell_type": "code",
   "source": [
    "push!(b, 1)\n",
    "push!(b, 3, 4)"
   ],
   "metadata": {},
   "execution_count": 12
  },
  {
   "cell_type": "markdown",
   "source": [
    "### Array exercise: indexing\n",
    "\n",
    "Access element `[1,2]` and `[2,1]` of Matrix `a` (hint use []):"
   ],
   "metadata": {
    "name": "A slide ",
    "slideshow": {
     "slide_type": "subslide"
    }
   }
  },
  {
   "outputs": [
    {
     "output_type": "execute_result",
     "data": {
      "text/plain": "(0.7044832651792984, 0.9589149108268781)"
     },
     "metadata": {},
     "execution_count": 13
    }
   ],
   "cell_type": "code",
   "source": [
    "a = rand(3,4)\n",
    "a[1,2], a[2,1]"
   ],
   "metadata": {},
   "execution_count": 13
  },
  {
   "cell_type": "markdown",
   "source": [
    "Linear vs Cartesian indexing,\n",
    "access the first element:"
   ],
   "metadata": {}
  },
  {
   "outputs": [
    {
     "output_type": "execute_result",
     "data": {
      "text/plain": "0.31093688954670606"
     },
     "metadata": {},
     "execution_count": 14
    }
   ],
   "cell_type": "code",
   "source": [
    "a[1]\n",
    "a[1,1]"
   ],
   "metadata": {},
   "execution_count": 14
  },
  {
   "cell_type": "markdown",
   "source": [
    "Access the last element (look up `?end`) both with linear and Cartesian indices"
   ],
   "metadata": {}
  },
  {
   "outputs": [
    {
     "output_type": "execute_result",
     "data": {
      "text/plain": "0.859543342298512"
     },
     "metadata": {},
     "execution_count": 15
    }
   ],
   "cell_type": "code",
   "source": [
    "a[end]\n",
    "a[end, end]"
   ],
   "metadata": {},
   "execution_count": 15
  },
  {
   "cell_type": "markdown",
   "source": [
    "### Array exercise: indexing by ranges\n",
    "\n",
    "Access the last row of `a` (hint use `1:end`)"
   ],
   "metadata": {
    "name": "A slide ",
    "slideshow": {
     "slide_type": "subslide"
    }
   }
  },
  {
   "outputs": [
    {
     "output_type": "execute_result",
     "data": {
      "text/plain": "4-element Vector{Float64}:\n 0.71874919020263\n 0.836500034554478\n 0.7123945746022184\n 0.859543342298512"
     },
     "metadata": {},
     "execution_count": 16
    }
   ],
   "cell_type": "code",
   "source": [
    "a[end, 1:end]"
   ],
   "metadata": {},
   "execution_count": 16
  },
  {
   "cell_type": "markdown",
   "source": [
    "Access a 2x2 sub-matrix"
   ],
   "metadata": {}
  },
  {
   "outputs": [
    {
     "output_type": "execute_result",
     "data": {
      "text/plain": "2×2 Matrix{Float64}:\n 0.310937  0.704483\n 0.958915  0.303194"
     },
     "metadata": {},
     "execution_count": 17
    }
   ],
   "cell_type": "code",
   "source": [
    "a[1:2, 1:2]"
   ],
   "metadata": {},
   "execution_count": 17
  },
  {
   "cell_type": "markdown",
   "source": [
    "################################################################"
   ],
   "metadata": {}
  },
  {
   "cell_type": "markdown",
   "source": [
    "### A small detour: types\n",
    "\n",
    "All values have types.  Arrays store in their type what type the elements can be.\n",
    "\n",
    "> Arrays which have concrete element-types are more performant!"
   ],
   "metadata": {
    "name": "A slide ",
    "slideshow": {
     "slide_type": "subslide"
    }
   }
  },
  {
   "outputs": [
    {
     "output_type": "execute_result",
     "data": {
      "text/plain": "(Vector{Int64}, Vector{Float64})"
     },
     "metadata": {},
     "execution_count": 18
    }
   ],
   "cell_type": "code",
   "source": [
    "typeof([1, 2]), typeof([1.0, 2.0])"
   ],
   "metadata": {},
   "execution_count": 18
  },
  {
   "cell_type": "markdown",
   "source": [
    "Aside, they also store their dimension in the second parameter.\n",
    "\n",
    "The type can be specified at creation"
   ],
   "metadata": {}
  },
  {
   "outputs": [
    {
     "output_type": "execute_result",
     "data": {
      "text/plain": "2-element Vector{String}:\n \"one\"\n \"two\""
     },
     "metadata": {},
     "execution_count": 19
    }
   ],
   "cell_type": "code",
   "source": [
    "String[\"one\", \"two\"]"
   ],
   "metadata": {},
   "execution_count": 19
  },
  {
   "cell_type": "markdown",
   "source": [
    "Create an array taking `Int` with no elements.  Push `1`, `1.0` and `1.5` to it.  What happens?"
   ],
   "metadata": {}
  },
  {
   "outputs": [
    {
     "output_type": "execute_result",
     "data": {
      "text/plain": "2-element Vector{Int64}:\n 1\n 1"
     },
     "metadata": {},
     "execution_count": 20
    }
   ],
   "cell_type": "code",
   "source": [
    "a = Int[]\n",
    "push!(a, 1) ## works\n",
    "push!(a, 1.0) ## works"
   ],
   "metadata": {},
   "execution_count": 20
  },
  {
   "cell_type": "markdown",
   "source": [
    "push!(a, 1.5) ## would error as 1.5 cannot be converted to an Int"
   ],
   "metadata": {}
  },
  {
   "cell_type": "markdown",
   "source": [
    "Make an array of type `Any` (which can store any value).  Push a value of type\n",
    "Int and one of type String to it."
   ],
   "metadata": {}
  },
  {
   "outputs": [
    {
     "output_type": "execute_result",
     "data": {
      "text/plain": "2-element Vector{Any}:\n 5\n  \"a\""
     },
     "metadata": {},
     "execution_count": 21
    }
   ],
   "cell_type": "code",
   "source": [
    "a = []\n",
    "push!(a, 5)\n",
    "push!(a, \"a\")"
   ],
   "metadata": {},
   "execution_count": 21
  },
  {
   "cell_type": "markdown",
   "source": [
    "## Control flow\n",
    "\n",
    "Julia provides a variety of [control flow constructs](https://docs.julialang.org/en/v1/manual/control-flow/), of which we look at:\n",
    "\n",
    "  * [Conditional Evaluation](https://docs.julialang.org/en/v1/manual/control-flow/#man-conditional-evaluation): `if`-`elseif`-`else` and `?:` (ternary operator).\n",
    "  * [Short-Circuit Evaluation](https://docs.julialang.org/en/v1/manual/control-flow/#Short-Circuit-Evaluation): logical operators `&&` (“and”) and `||` (“or”), and also chained comparisons.\n",
    "  * [Repeated Evaluation: Loops](https://docs.julialang.org/en/v1/manual/control-flow/#man-loops): `while` and `for`."
   ],
   "metadata": {
    "name": "A slide ",
    "slideshow": {
     "slide_type": "slide"
    }
   }
  },
  {
   "cell_type": "markdown",
   "source": [
    "### Conditional evaluation\n",
    "[https://docs.julialang.org/en/v1/manual/control-flow/#man-conditional-evaluation](https://docs.julialang.org/en/v1/manual/control-flow/#man-conditional-evaluation)\n",
    "\n",
    "if-blocks"
   ],
   "metadata": {
    "name": "A slide ",
    "slideshow": {
     "slide_type": "slide"
    }
   }
  },
  {
   "outputs": [
    {
     "name": "stdout",
     "output_type": "stream",
     "text": [
      "Hello\n"
     ]
    }
   ],
   "cell_type": "code",
   "source": [
    "a = 77\n",
    "if a==45\n",
    "    println(\"Hi\")\n",
    "elseif a==77\n",
    "    println(\"Hello\")\n",
    "else\n",
    "    println(\"Grüss Gott\")\n",
    "end"
   ],
   "metadata": {},
   "execution_count": 22
  },
  {
   "cell_type": "markdown",
   "source": [
    "### Conditional evaluation: the \"ternary operator\" `?`"
   ],
   "metadata": {
    "name": "A slide ",
    "slideshow": {
     "slide_type": "subslide"
    }
   }
  },
  {
   "outputs": [
    {
     "output_type": "execute_result",
     "data": {
      "text/plain": "\"not so big\""
     },
     "metadata": {},
     "execution_count": 23
    }
   ],
   "cell_type": "code",
   "source": [
    "a = 1\n",
    "a > 5 ? \"really big\" : \"not so big\""
   ],
   "metadata": {},
   "execution_count": 23
  },
  {
   "cell_type": "markdown",
   "source": [
    "### Short circuit operators `&&` and `||`\n",
    "\n",
    "[https://docs.julialang.org/en/v1/manual/control-flow/#Short-Circuit-Evaluation](https://docs.julialang.org/en/v1/manual/control-flow/#Short-Circuit-Evaluation)\n",
    "\n",
    "Relatively often used in Julia:\n",
    "```\n",
    "a < 0 && error(\"Not valid input for `a`\")\n",
    "```"
   ],
   "metadata": {
    "name": "A slide ",
    "slideshow": {
     "slide_type": "slide"
    }
   }
  },
  {
   "cell_type": "markdown",
   "source": [
    "### Loops: `for` and `while`\n",
    "\n",
    "[https://docs.julialang.org/en/v1/manual/control-flow/#man-loops](https://docs.julialang.org/en/v1/manual/control-flow/#man-loops)"
   ],
   "metadata": {
    "name": "A slide ",
    "slideshow": {
     "slide_type": "slide"
    }
   }
  },
  {
   "outputs": [
    {
     "name": "stdout",
     "output_type": "stream",
     "text": [
      "1\n",
      "2\n",
      "3\n",
      "dog\n",
      "cat\n",
      "1\n",
      "2\n",
      "3\n"
     ]
    }
   ],
   "cell_type": "code",
   "source": [
    "for i = 1:3\n",
    "    println(i)\n",
    "end\n",
    "\n",
    "for i in [\"dog\", \"cat\"] ## `in` and `=` are equivalent for writing loops\n",
    "    println(i)\n",
    "end\n",
    "\n",
    "i = 1\n",
    "while i<4\n",
    "    println(i)\n",
    "    i += 1\n",
    "end"
   ],
   "metadata": {},
   "execution_count": 24
  },
  {
   "cell_type": "markdown",
   "source": [
    "## Functions\n",
    "\n",
    "Functions can be defined in Julia in a number of ways.  In particular there is one variant\n",
    "more suited to longer definitions, and one for one-liners:\n",
    "\n",
    "```\n",
    "function f(a, b)\n",
    "   return a * b\n",
    "end\n",
    "f(a, b) = a * b\n",
    "```\n",
    "\n",
    "Defining many, short functions is typical in good Julia code.\n",
    "\n",
    "See [https://docs.julialang.org/en/v1/manual/functions/](https://docs.julialang.org/en/v1/manual/functions/)"
   ],
   "metadata": {
    "name": "A slide ",
    "slideshow": {
     "slide_type": "slide"
    }
   }
  },
  {
   "cell_type": "markdown",
   "source": [
    "### Functions: exercises [5min]\n",
    "\n",
    "Define a function `fn` in long-form which takes two arguments and multiplies them"
   ],
   "metadata": {
    "name": "A slide ",
    "slideshow": {
     "slide_type": "subslide"
    }
   }
  },
  {
   "outputs": [],
   "cell_type": "code",
   "source": [
    "function fn(a, b)\n",
    "    return a*b\n",
    "end\n",
    "\n",
    "# it should pass this test\n",
    "a, b = rand(4,5), 7\n",
    "@assert fn(a,b) == a*b"
   ],
   "metadata": {},
   "execution_count": 25
  },
  {
   "cell_type": "markdown",
   "source": [
    "### Functions: dot-syntax *IMPORTANT*\n",
    "\n",
    "Functions which are scalar functions in maths, say `cos`, are only defined for scalars in Julia!\n",
    "\n",
    "To apply them element-wise to vectors use `cos.([1,2])`.\n",
    "\n",
    "Similarly the dot also works for infix functions, say `.+`.\n",
    "\n",
    "Exercise: apply the `sin` function to a vector `1:10` and add `7`:"
   ],
   "metadata": {
    "name": "A slide ",
    "slideshow": {
     "slide_type": "subslide"
    }
   }
  },
  {
   "outputs": [
    {
     "output_type": "execute_result",
     "data": {
      "text/plain": "10-element Vector{Float64}:\n 7.841470984807897\n 7.909297426825682\n 7.141120008059867\n 6.243197504692072\n 6.041075725336862\n 6.720584501801074\n 7.656986598718789\n 7.9893582466233815\n 7.4121184852417565\n 6.4559788891106304"
     },
     "metadata": {},
     "execution_count": 26
    }
   ],
   "cell_type": "code",
   "source": [
    "sin.(1:10) .+ 7"
   ],
   "metadata": {},
   "execution_count": 26
  },
  {
   "cell_type": "markdown",
   "source": [
    "Broadcasting will extend row and column vectors into a matrix.\n",
    "Try `(1:10) .+ (1:10)'`  (Note the `'`, this is the transpose operator)"
   ],
   "metadata": {}
  },
  {
   "outputs": [
    {
     "output_type": "execute_result",
     "data": {
      "text/plain": "10×10 Matrix{Int64}:\n  2   3   4   5   6   7   8   9  10  11\n  3   4   5   6   7   8   9  10  11  12\n  4   5   6   7   8   9  10  11  12  13\n  5   6   7   8   9  10  11  12  13  14\n  6   7   8   9  10  11  12  13  14  15\n  7   8   9  10  11  12  13  14  15  16\n  8   9  10  11  12  13  14  15  16  17\n  9  10  11  12  13  14  15  16  17  18\n 10  11  12  13  14  15  16  17  18  19\n 11  12  13  14  15  16  17  18  19  20"
     },
     "metadata": {},
     "execution_count": 27
    }
   ],
   "cell_type": "code",
   "source": [
    "(1:10) .+ (1:10)'"
   ],
   "metadata": {},
   "execution_count": 27
  },
  {
   "cell_type": "markdown",
   "source": [
    "### Functions: dot-syntax exercise\n",
    "\n",
    "Evaluate the function `sin(x) + cos(y)` for\n",
    "`x = 0:0.1:pi` and `y = -pi:0.1:pi`.  Remember to use `'`."
   ],
   "metadata": {
    "name": "A slide ",
    "slideshow": {
     "slide_type": "subslide"
    }
   }
  },
  {
   "outputs": [
    {
     "output_type": "execute_result",
     "data": {
      "text/plain": "32×63 Matrix{Float64}:\n -1.0       -0.995004  -0.980067  …  -0.96017   -0.983268  -0.996542\n -0.900167  -0.895171  -0.880233     -0.860337  -0.883435  -0.896709\n -0.801331  -0.796335  -0.781397     -0.761501  -0.784599  -0.797873\n -0.70448   -0.699484  -0.684546     -0.66465   -0.687748  -0.701022\n -0.610582  -0.605586  -0.590648     -0.570752  -0.59385   -0.607124\n -0.520574  -0.515579  -0.500641  …  -0.480745  -0.503843  -0.517117\n -0.435358  -0.430362  -0.415424     -0.395528  -0.418626  -0.4319\n -0.355782  -0.350786  -0.335849     -0.315953  -0.339051  -0.352324\n -0.282644  -0.277648  -0.26271      -0.242814  -0.265912  -0.279186\n -0.216673  -0.211677  -0.19674      -0.176843  -0.199942  -0.213215\n  ⋮                               ⋱   ⋮                    \n -0.254295  -0.249299  -0.234361     -0.214465  -0.237563  -0.250837\n -0.324537  -0.319541  -0.304603     -0.284707  -0.307805  -0.321079\n -0.401528  -0.396532  -0.381594  …  -0.361698  -0.384796  -0.39807\n -0.484499  -0.479503  -0.464565     -0.444669  -0.467767  -0.481041\n -0.57262   -0.567624  -0.552687     -0.53279   -0.555889  -0.569162\n -0.665012  -0.660016  -0.645078     -0.625182  -0.64828   -0.661554\n -0.760751  -0.755755  -0.740817     -0.720921  -0.744019  -0.757293\n -0.85888   -0.853884  -0.838947  …  -0.81905   -0.842148  -0.855422\n -0.958419  -0.953424  -0.938486     -0.91859   -0.941688  -0.954961"
     },
     "metadata": {},
     "execution_count": 28
    }
   ],
   "cell_type": "code",
   "source": [
    "x,y = 0:0.1:pi, -pi:0.1:pi\n",
    "sin.(x) .+ cos.(y')"
   ],
   "metadata": {},
   "execution_count": 28
  },
  {
   "cell_type": "markdown",
   "source": [
    "### Functions: anonymous functions\n",
    "\n",
    "So far our function got a name with the definition. They can also be defined without name.\n",
    "\n",
    "See [https://docs.julialang.org/en/v1/manual/functions/#man-anonymous-functions](https://docs.julialang.org/en/v1/manual/functions/#man-anonymous-functions)"
   ],
   "metadata": {
    "name": "A slide ",
    "slideshow": {
     "slide_type": "subslide"
    }
   }
  },
  {
   "outputs": [
    {
     "output_type": "execute_result",
     "data": {
      "text/plain": "10-element Vector{Float64}:\n  1.3817732906760363\n  0.4931505902785393\n -0.8488724885405782\n -1.4104461161715403\n -0.6752620891999122\n  0.6807547884514401\n  1.4108888530620938\n  0.8438582128147682\n -0.49901177664292035\n -1.383092639965822"
     },
     "metadata": {},
     "execution_count": 29
    }
   ],
   "cell_type": "code",
   "source": [
    "map(x -> sin(x) + cos(x), 1:10)"
   ],
   "metadata": {},
   "execution_count": 29
  },
  {
   "cell_type": "markdown",
   "source": [
    "### Key feature: multiple dispatch functions\n",
    "\n",
    "- Julia is not an object oriented language\n",
    "\n",
    "OO:\n",
    "- methods belong to objects\n",
    "- method is selected based on first argument (e.g. `self` in Python)\n",
    "\n",
    "Multiple dispatch:\n",
    "- methods are separate from objects\n",
    "- are selected based on all arguments\n",
    "- similar to overloading but method selection occurs at runtime and not compile-time (see also video below)\n",
    "> very natural for mathematical programming\n",
    "\n",
    "JuliaCon 2019 presentation on the subject by Stefan Karpinski\n",
    "(co-creator of Julia):\n",
    "\n",
    "[\"The Unreasonable Effectiveness of Multiple Dispatch\"](https://www.youtube.com/watch?v=kc9HwsxE1OY)"
   ],
   "metadata": {
    "name": "A slide ",
    "slideshow": {
     "slide_type": "subslide"
    }
   }
  },
  {
   "cell_type": "markdown",
   "source": [
    "## Functions: Multiple dispatch demo\n",
    "\n",
    "This cool example is based on a [blog post](https://giordano.github.io/blog/2017-11-03-rock-paper-scissors/) by Mose Giordano:"
   ],
   "metadata": {
    "name": "A slide ",
    "slideshow": {
     "slide_type": "subslide"
    }
   }
  },
  {
   "outputs": [
    {
     "output_type": "execute_result",
     "data": {
      "text/plain": "\"Rock wins\""
     },
     "metadata": {},
     "execution_count": 30
    }
   ],
   "cell_type": "code",
   "source": [
    "struct Rock end\n",
    "struct Paper end\n",
    "struct Scissors end\n",
    "### of course structs could have fields as well\n",
    "# struct Rock\n",
    "#     color\n",
    "#     name::String\n",
    "#     density::Float64\n",
    "# end\n",
    "\n",
    "# define multi-method\n",
    "play(::Rock, ::Paper) = \"Paper wins\"\n",
    "play(::Rock, ::Scissors) = \"Rock wins\"\n",
    "play(::Scissors, ::Paper) = \"Scissors wins\"\n",
    "play(a, b) = play(b, a) # commutative\n",
    "\n",
    "play(Scissors(), Rock())"
   ],
   "metadata": {},
   "execution_count": 30
  },
  {
   "cell_type": "markdown",
   "source": [
    "### Multiple dispatch demo\n",
    "Can easily be extended later:\n",
    "\n",
    "- with new type:"
   ],
   "metadata": {
    "name": "A slide ",
    "slideshow": {
     "slide_type": "subslide"
    }
   }
  },
  {
   "outputs": [
    {
     "output_type": "execute_result",
     "data": {
      "text/plain": "\"Pond wins\""
     },
     "metadata": {},
     "execution_count": 31
    }
   ],
   "cell_type": "code",
   "source": [
    "struct Pond end\n",
    "play(::Rock, ::Pond) = \"Pond wins\"\n",
    "play(::Paper, ::Pond) = \"Paper wins\"\n",
    "play(::Scissors, ::Pond) = \"Pond wins\"\n",
    "\n",
    "play(Scissors(), Pond())"
   ],
   "metadata": {},
   "execution_count": 31
  },
  {
   "cell_type": "markdown",
   "source": [
    "- with new function:"
   ],
   "metadata": {
    "name": "A slide ",
    "slideshow": {
     "slide_type": "fragment"
    }
   }
  },
  {
   "outputs": [
    {
     "output_type": "execute_result",
     "data": {
      "text/plain": "\"Paperweight\""
     },
     "metadata": {},
     "execution_count": 32
    }
   ],
   "cell_type": "code",
   "source": [
    "combine(::Rock, ::Paper) = \"Paperweight\"\n",
    "combine(::Paper, ::Scissors) = \"Two pieces of papers\"\n",
    "# ...\n",
    "\n",
    "combine(Rock(), Paper())"
   ],
   "metadata": {},
   "execution_count": 32
  },
  {
   "cell_type": "markdown",
   "source": [
    "*Multiple dispatch makes Julia packages very composable!*\n",
    "\n",
    "This is a key characteristic of the Julia package ecosystem."
   ],
   "metadata": {
    "name": "A slide ",
    "slideshow": {
     "slide_type": "fragment"
    }
   }
  },
  {
   "cell_type": "markdown",
   "source": [
    "## Macros, i.e. those funky @-thingies\n",
    "\n",
    "Macro calls can easily be spotted by the `@`, for example:"
   ],
   "metadata": {
    "name": "A slide ",
    "slideshow": {
     "slide_type": "slide"
    }
   }
  },
  {
   "outputs": [],
   "cell_type": "code",
   "source": [
    "@assert 1!=2 \"Error message: why is 1==2?\""
   ],
   "metadata": {},
   "execution_count": 33
  },
  {
   "cell_type": "markdown",
   "source": [
    "Macros add extra functionality which simple functions could not provide. They do this by\n",
    "operating on the code itself as opposed to the data like functions.\n",
    "\n",
    "- in general, as a beginner just use the provided macros as specified in their docs\n",
    "- think twice before you define your own macros (using `macro`)\n",
    "- more at the [Julia-docs](https://docs.julialang.org/en/v1/manual/metaprogramming/)"
   ],
   "metadata": {}
  },
  {
   "cell_type": "markdown",
   "source": [
    "## Modules and packages\n",
    "\n",
    "Modules can be used to structure code into larger entities, and be used to divide it into\n",
    "different name spaces.  We will not make much use of those, but if interested see\n",
    "[https://docs.julialang.org/en/v1/manual/modules/](https://docs.julialang.org/en/v1/manual/modules/)\n",
    "\n",
    "**Packages** are the way people distribute code and we'll make use of them extensively.\n",
    "In the first example, the Lorenz ODE, you saw\n",
    "```\n",
    "using CairoMakie\n",
    "```\n",
    "This statement loads the package `CairoMakie`, the plotting package we recommend, and makes its functions\n",
    "and types available in the current session and use it like so:"
   ],
   "metadata": {
    "name": "A slide ",
    "slideshow": {
     "slide_type": "slide"
    }
   }
  },
  {
   "outputs": [
    {
     "output_type": "execute_result",
     "data": {
      "text/plain": "FigureAxisPlot()",
      "image/png": "[encoded data removed]",
      "text/html": [
       "<img width=600 height=450 style='object-fit: contain; height: auto;' src=\"data:image/png;base64, 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\"/>"
      ]
     },
     "metadata": {},
     "execution_count": 34
    }
   ],
   "cell_type": "code",
   "source": [
    "using CairoMakie\n",
    "lines( (1:10).^2 )"
   ],
   "metadata": {},
   "execution_count": 34
  },
  {
   "cell_type": "markdown",
   "source": [
    "### Packages\n",
    "\n",
    "All public Julia packages are listed on [https://juliahub.com/ui/Packages](https://juliahub.com/ui/Packages).\n",
    "\n",
    "You can install a package, say [`UnPack`](https://github.com/mauro3/UnPack.jl) by\n",
    "```julia-repl\n",
    "using Pkg\n",
    "Pkg.add(\"UnPack\")\n",
    "using UnPack\n",
    "```\n",
    "\n",
    "In the REPL, there is also a package-mode (hit `]`) which is for interactive use."
   ],
   "metadata": {
    "name": "A slide ",
    "slideshow": {
     "slide_type": "subslide"
    }
   }
  },
  {
   "outputs": [
    {
     "name": "stdout",
     "output_type": "stream",
     "text": [
      "   Resolving package versions...\n",
      "  No Changes to `~/teaching/short-courses-and-talks/EGU2025-Julia-Intro/EGU2025-Julia-intro-and-showcase-for-geoscience/intro-notebooks/_scripts-to-generate-notebooks/Project.toml`\n",
      "  No Changes to `~/teaching/short-courses-and-talks/EGU2025-Julia-Intro/EGU2025-Julia-intro-and-showcase-for-geoscience/intro-notebooks/_scripts-to-generate-notebooks/Manifest.toml`\n"
     ]
    }
   ],
   "cell_type": "code",
   "source": [
    "# Install a package the UnPack.jl package\n",
    "# use it, query help on the package itself:\n",
    "\n",
    "using Pkg\n",
    "Pkg.add(\"UnPack\")\n",
    "using UnPack"
   ],
   "metadata": {},
   "execution_count": 35
  },
  {
   "outputs": [],
   "cell_type": "code",
   "source": [
    "#?UnPack"
   ],
   "metadata": {},
   "execution_count": 36
  },
  {
   "cell_type": "markdown",
   "source": [
    "### Packages of this short course\n",
    "\n",
    "This short course uses a few packages, you can see them in the\n",
    "[Project.toml](https://github.com/mauro3/EGU2025-Julia-intro-and-showcase-for-geoscience/blob/main/Project.toml) of the repo.\n",
    "Consult the README of https://github.com/mauro3/EGU2025-Julia-intro-and-showcase-for-geoscience for how to install them on your local machine."
   ],
   "metadata": {}
  },
  {
   "cell_type": "markdown",
   "source": [
    "## This concludes the rapid Julia intro\n",
    "\n",
    "There are many more features of Julia for sure but this should get you started, and setup for\n",
    "the exercises.  (Let us know if you feel we left something out which would have been helpful for the exercises).\n",
    "\n",
    "Remember you can self-help with:\n",
    "- using `?` at the notebook.  Similarly there is an `apropos` function.\n",
    "- the docs are your friend [https://docs.julialang.org/en/v1/](https://docs.julialang.org/en/v1/)"
   ],
   "metadata": {
    "name": "A slide ",
    "slideshow": {
     "slide_type": "subslide"
    }
   }
  }
 ],
 "nbformat_minor": 3,
 "metadata": {
  "language_info": {
   "file_extension": ".jl",
   "mimetype": "application/julia",
   "name": "julia",
   "version": "1.10.9"
  },
  "kernelspec": {
   "name": "julia-1.10",
   "display_name": "Julia 1.10.9",
   "language": "julia"
  }
 },
 "nbformat": 4
}
