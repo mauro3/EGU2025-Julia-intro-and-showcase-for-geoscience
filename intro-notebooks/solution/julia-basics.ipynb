version https://git-lfs.github.com/spec/v1
oid sha256:6321022e68b3d9c96e72a1568f9ffb9fc5490668ec036a70a681493cb5b5c392
size 85724
