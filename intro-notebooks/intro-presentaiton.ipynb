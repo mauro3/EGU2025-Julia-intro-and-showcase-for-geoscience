version https://git-lfs.github.com/spec/v1
oid sha256:24256a591012a5a6eb87c3f468e6730978aea2be75a3124f493584d1863e2d3b
size 134239
