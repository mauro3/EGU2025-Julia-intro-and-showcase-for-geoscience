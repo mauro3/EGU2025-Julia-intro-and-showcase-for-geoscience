version https://git-lfs.github.com/spec/v1
oid sha256:a7d6789fab598b36702c451f1028c318c9121e4b82f3db689b30d76073ef8fda
size 25561
