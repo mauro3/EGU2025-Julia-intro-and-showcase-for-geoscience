{
 "cells": [
  {
   "cell_type": "markdown",
   "source": [
    "###  Let's get our hands dirty!\n",
    "\n",
    "This notebook give a brief crash course getting you started with the basics of Julia."
   ],
   "metadata": {
    "name": "A slide ",
    "slideshow": {
     "slide_type": "slide"
    }
   }
  },
  {
   "cell_type": "markdown",
   "source": [
    "###  Running this notebook\n",
    "\n",
    "**Local install:**\n",
    "- clone or download this notebook from https://github.com/mauro3/EGU2025-Julia-intro-and-showcase-for-geoscience\n",
    "- run this to make sure packages are installed (this may take a while):"
   ],
   "metadata": {
    "name": "A slide ",
    "slideshow": {
     "slide_type": "slide"
    }
   }
  },
  {
   "outputs": [],
   "cell_type": "code",
   "source": [
    "# using Pkg; Pkg.instantiate()"
   ],
   "metadata": {},
   "execution_count": null
  },
  {
   "cell_type": "markdown",
   "source": [
    "**Google Colab**:\n",
    "- head to the README of [github.com/mauro3/EGU2025-Julia-intro-and-showcase-for-geoscience](https://github.com/mauro3/EGU2025-Julia-intro-and-showcase-for-geoscience?tab=readme-ov-file#running-on-google-colab)\n",
    "- click on the link for the notebook you want to start up on Colab. This one is [`julia-basics.ipynb`](https://colab.research.google.com/github/mauro3/EGU2025-Julia-intro-and-showcase-for-geoscience/blob/main/intro-notebooks/julia-basics.ipynb#scrollTo=hauaC-M8PtMP)\n",
    "- in the menu \"Runtime\"->\"Change runtime type\"->\"Julia\" (no, leaving it at \"Julia v10.9\" does not work...)\n",
    "- no need to install packages as what we use here is pre-intsalled on Colab (i.e. Plots.jl)"
   ],
   "metadata": {}
  },
  {
   "cell_type": "markdown",
   "source": [
    "###  Let's get our hands dirty!\n",
    "\n",
    "We will now look at\n",
    "- variables and types\n",
    "- control flow\n",
    "- functions\n",
    "- modules and packages"
   ],
   "metadata": {
    "name": "A slide ",
    "slideshow": {
     "slide_type": "slide"
    }
   }
  },
  {
   "cell_type": "markdown",
   "source": [
    "The documentation of Julia is good and can be found at [https://docs.julialang.org](https://docs.julialang.org); although for learning it might be a bit terse...\n",
    "\n",
    "There are also tutorials, see [https://julialang.org/learning/](https://julialang.org/learning/).\n",
    "\n",
    "Furthermore, documentation can be gotten with `?xyz`.  Try it (in Jupyter notebooks this needs to be in a cell of its own):"
   ],
   "metadata": {}
  },
  {
   "outputs": [],
   "cell_type": "code",
   "source": [
    "# ?cos"
   ],
   "metadata": {},
   "execution_count": null
  },
  {
   "cell_type": "markdown",
   "source": [
    "## Variables, assignments, and types [5min]\n",
    "[https://docs.julialang.org/en/v1/manual/variables/](https://docs.julialang.org/en/v1/manual/variables/)"
   ],
   "metadata": {
    "name": "A slide ",
    "slideshow": {
     "slide_type": "slide"
    }
   }
  },
  {
   "outputs": [],
   "cell_type": "code",
   "source": [
    "a = 4\n",
    "b = \"a string\"\n",
    "c = b # now b and c bind to the same value"
   ],
   "metadata": {},
   "execution_count": null
  },
  {
   "cell_type": "markdown",
   "source": [
    "Conventions:\n",
    "- variables are (usually) lowercase, words can be separated by `_`\n",
    "- function names are lowercase\n",
    "- modules, packages and types are in CamelCase"
   ],
   "metadata": {}
  },
  {
   "cell_type": "markdown",
   "source": [
    "### Variables: Unicode\n",
    "From [https://docs.julialang.org/en/v1/manual/variables/](https://docs.julialang.org/en/v1/manual/variables/):\n",
    "\n",
    "Unicode names (in UTF-8 encoding) are allowed and typed in LaTeX notation.  Try making a variable\n",
    "- `δ = 99` with `\\delta`+tab\n",
    "- `x² = 25` with `x\\^2`+tab\n",
    "\n",
    "**Note for Colab**: unicode input in Colab does not work yet. As a work around, you can input it as\n",
    "described above in a text-field and then copy it to a code-field. https://github.com/googlecolab/colabtools/issues/5218"
   ],
   "metadata": {
    "name": "A slide ",
    "slideshow": {
     "slide_type": "slide"
    }
   }
  },
  {
   "outputs": [],
   "cell_type": "code",
   "source": [
    "# ..."
   ],
   "metadata": {},
   "execution_count": null
  },
  {
   "cell_type": "markdown",
   "source": [
    "### Basic datatypes\n",
    "- numbers (Ints, Floats, Complex, etc.)\n",
    "- strings\n",
    "- tuples\n",
    "- arrays\n",
    "- dictionaries"
   ],
   "metadata": {
    "name": "A slide ",
    "slideshow": {
     "slide_type": "slide"
    }
   }
  },
  {
   "outputs": [],
   "cell_type": "code",
   "source": [
    "1     # 64 bit integer (or 32 bit if on a 32-bit OS)\n",
    "1.5   # Float64\n",
    "1//2  # Rational"
   ],
   "metadata": {},
   "execution_count": null
  },
  {
   "outputs": [],
   "cell_type": "code",
   "source": [
    "typeof(1.5)"
   ],
   "metadata": {},
   "execution_count": null
  },
  {
   "outputs": [],
   "cell_type": "code",
   "source": [
    "\"a string\", (1, 3.5) # and tuple"
   ],
   "metadata": {},
   "execution_count": null
  },
  {
   "outputs": [],
   "cell_type": "code",
   "source": [
    "[1, 2, 3,] # array of eltype Int"
   ],
   "metadata": {},
   "execution_count": null
  },
  {
   "outputs": [],
   "cell_type": "code",
   "source": [
    "Dict(\"a\"=>1, \"b\"=>cos)"
   ],
   "metadata": {},
   "execution_count": null
  },
  {
   "cell_type": "markdown",
   "source": [
    "## Array exercises [3min]\n",
    "\n",
    "Arrays are the bread and butter of science...\n",
    "\n",
    "- indexing starts at 1\n",
    "- uses `[]`\n",
    "- are column-major (like Fortran and Matlab, unlike C and Python)"
   ],
   "metadata": {
    "name": "A slide ",
    "slideshow": {
     "slide_type": "slide"
    }
   }
  },
  {
   "cell_type": "markdown",
   "source": [
    "Task: assign vectors to `a`, and `b` and the concatenate them using `;`:"
   ],
   "metadata": {}
  },
  {
   "outputs": [],
   "cell_type": "code",
   "source": [
    "a = [2, 3]\n",
    "b = ...\n",
    "[... ;... ]"
   ],
   "metadata": {},
   "execution_count": null
  },
  {
   "cell_type": "markdown",
   "source": [
    "Add new elements to the end of Vector `b` (hint look up the documentation for `push!`)"
   ],
   "metadata": {}
  },
  {
   "outputs": [],
   "cell_type": "code",
   "source": [
    "# ?push!"
   ],
   "metadata": {},
   "execution_count": null
  },
  {
   "cell_type": "markdown",
   "source": [
    "### Array exercise: indexing\n",
    "\n",
    "Access element `[1,2]` and `[2,1]` of Matrix `a` (hint use []):"
   ],
   "metadata": {
    "name": "A slide ",
    "slideshow": {
     "slide_type": "subslide"
    }
   }
  },
  {
   "outputs": [],
   "cell_type": "code",
   "source": [
    "a = rand(3,4)\n",
    "a[ ... ], a[ ... ]"
   ],
   "metadata": {},
   "execution_count": null
  },
  {
   "cell_type": "markdown",
   "source": [
    "Linear vs Cartesian indexing,\n",
    "access the first element:"
   ],
   "metadata": {}
  },
  {
   "outputs": [],
   "cell_type": "code",
   "source": [
    "a[1]\n",
    "a[1,1]"
   ],
   "metadata": {},
   "execution_count": null
  },
  {
   "cell_type": "markdown",
   "source": [
    "Access the last element (look up `?end`) both with linear and Cartesian indices"
   ],
   "metadata": {}
  },
  {
   "outputs": [],
   "cell_type": "code",
   "source": [
    "a[...]\n",
    "a[..., ...]"
   ],
   "metadata": {},
   "execution_count": null
  },
  {
   "cell_type": "markdown",
   "source": [
    "### Array exercise: indexing by ranges\n",
    "\n",
    "Access the last row of `a` (hint use `1:end`)"
   ],
   "metadata": {
    "name": "A slide ",
    "slideshow": {
     "slide_type": "subslide"
    }
   }
  },
  {
   "outputs": [],
   "cell_type": "code",
   "source": [
    "a[... , ...]"
   ],
   "metadata": {},
   "execution_count": null
  },
  {
   "cell_type": "markdown",
   "source": [
    "Access a 2x2 sub-matrix"
   ],
   "metadata": {}
  },
  {
   "outputs": [],
   "cell_type": "code",
   "source": [
    "a[...]"
   ],
   "metadata": {},
   "execution_count": null
  },
  {
   "cell_type": "markdown",
   "source": [
    "################################################################"
   ],
   "metadata": {}
  },
  {
   "cell_type": "markdown",
   "source": [
    "### A small detour: types\n",
    "\n",
    "All values have types.  Arrays store in their type what type the elements can be.\n",
    "\n",
    "> Arrays which have concrete element-types are more performant!"
   ],
   "metadata": {
    "name": "A slide ",
    "slideshow": {
     "slide_type": "subslide"
    }
   }
  },
  {
   "outputs": [],
   "cell_type": "code",
   "source": [
    "typeof([1, 2]), typeof([1.0, 2.0])"
   ],
   "metadata": {},
   "execution_count": null
  },
  {
   "cell_type": "markdown",
   "source": [
    "Aside, they also store their dimension in the second parameter.\n",
    "\n",
    "The type can be specified at creation"
   ],
   "metadata": {}
  },
  {
   "outputs": [],
   "cell_type": "code",
   "source": [
    "String[\"one\", \"two\"]"
   ],
   "metadata": {},
   "execution_count": null
  },
  {
   "cell_type": "markdown",
   "source": [
    "Create an array taking `Int` with no elements.  Push `1`, `1.0` and `1.5` to it.  What happens?"
   ],
   "metadata": {}
  },
  {
   "outputs": [],
   "cell_type": "code",
   "source": [
    "# ..."
   ],
   "metadata": {},
   "execution_count": null
  },
  {
   "cell_type": "markdown",
   "source": [
    "Make an array of type `Any` (which can store any value).  Push a value of type\n",
    "Int and one of type String to it."
   ],
   "metadata": {}
  },
  {
   "outputs": [],
   "cell_type": "code",
   "source": [
    "# ..."
   ],
   "metadata": {},
   "execution_count": null
  },
  {
   "cell_type": "markdown",
   "source": [
    "## Control flow\n",
    "\n",
    "Julia provides a variety of [control flow constructs](https://docs.julialang.org/en/v1/manual/control-flow/), of which we look at:\n",
    "\n",
    "  * [Conditional Evaluation](https://docs.julialang.org/en/v1/manual/control-flow/#man-conditional-evaluation): `if`-`elseif`-`else` and `?:` (ternary operator).\n",
    "  * [Short-Circuit Evaluation](https://docs.julialang.org/en/v1/manual/control-flow/#Short-Circuit-Evaluation): logical operators `&&` (“and”) and `||` (“or”), and also chained comparisons.\n",
    "  * [Repeated Evaluation: Loops](https://docs.julialang.org/en/v1/manual/control-flow/#man-loops): `while` and `for`."
   ],
   "metadata": {
    "name": "A slide ",
    "slideshow": {
     "slide_type": "slide"
    }
   }
  },
  {
   "cell_type": "markdown",
   "source": [
    "### Conditional evaluation\n",
    "[https://docs.julialang.org/en/v1/manual/control-flow/#man-conditional-evaluation](https://docs.julialang.org/en/v1/manual/control-flow/#man-conditional-evaluation)\n",
    "\n",
    "if-blocks"
   ],
   "metadata": {
    "name": "A slide ",
    "slideshow": {
     "slide_type": "slide"
    }
   }
  },
  {
   "outputs": [],
   "cell_type": "code",
   "source": [
    "a = 77\n",
    "if a==45\n",
    "    println(\"Hi\")\n",
    "elseif a==77\n",
    "    println(\"Hello\")\n",
    "else\n",
    "    println(\"Grüss Gott\")\n",
    "end"
   ],
   "metadata": {},
   "execution_count": null
  },
  {
   "cell_type": "markdown",
   "source": [
    "### Conditional evaluation: the \"ternary operator\" `?`"
   ],
   "metadata": {
    "name": "A slide ",
    "slideshow": {
     "slide_type": "subslide"
    }
   }
  },
  {
   "outputs": [],
   "cell_type": "code",
   "source": [
    "a = 1\n",
    "a > 5 ? \"really big\" : \"not so big\""
   ],
   "metadata": {},
   "execution_count": null
  },
  {
   "cell_type": "markdown",
   "source": [
    "### Short circuit operators `&&` and `||`\n",
    "\n",
    "[https://docs.julialang.org/en/v1/manual/control-flow/#Short-Circuit-Evaluation](https://docs.julialang.org/en/v1/manual/control-flow/#Short-Circuit-Evaluation)\n",
    "\n",
    "Relatively often used in Julia:\n",
    "```\n",
    "a < 0 && error(\"Not valid input for `a`\")\n",
    "```\n",
    "which evaluates the statement after `&&` only if the first statement is true."
   ],
   "metadata": {
    "name": "A slide ",
    "slideshow": {
     "slide_type": "slide"
    }
   }
  },
  {
   "cell_type": "markdown",
   "source": [
    "### Loops: `for` and `while`\n",
    "\n",
    "[https://docs.julialang.org/en/v1/manual/control-flow/#man-loops](https://docs.julialang.org/en/v1/manual/control-flow/#man-loops)"
   ],
   "metadata": {
    "name": "A slide ",
    "slideshow": {
     "slide_type": "slide"
    }
   }
  },
  {
   "outputs": [],
   "cell_type": "code",
   "source": [
    "for i = 1:3\n",
    "    println(i)\n",
    "end\n",
    "\n",
    "for i in [\"dog\", \"cat\"] ## `in` and `=` are equivalent for writing loops\n",
    "    println(i)\n",
    "end\n",
    "\n",
    "i = 1\n",
    "while i<4\n",
    "    println(i)\n",
    "    i += 1\n",
    "end"
   ],
   "metadata": {},
   "execution_count": null
  },
  {
   "cell_type": "markdown",
   "source": [
    "## Functions\n",
    "\n",
    "Functions can be defined in Julia in a number of ways.  In particular there is one variant\n",
    "more suited to longer definitions, and one for one-liners:\n",
    "\n",
    "```\n",
    "function f(a, b)\n",
    "   return a * b\n",
    "end\n",
    "f(a, b) = a * b\n",
    "```\n",
    "\n",
    "Defining many, short functions is typical in good Julia code.\n",
    "\n",
    "See [https://docs.julialang.org/en/v1/manual/functions/](https://docs.julialang.org/en/v1/manual/functions/)"
   ],
   "metadata": {
    "name": "A slide ",
    "slideshow": {
     "slide_type": "slide"
    }
   }
  },
  {
   "cell_type": "markdown",
   "source": [
    "### Functions: exercises [5min]\n",
    "\n",
    "Define a function `fn` in long-form which takes two arguments and multiplies them"
   ],
   "metadata": {
    "name": "A slide ",
    "slideshow": {
     "slide_type": "subslide"
    }
   }
  },
  {
   "outputs": [],
   "cell_type": "code",
   "source": [
    "# ...\n",
    "\n",
    "# it should pass this test\n",
    "a, b = rand(4,5), 7\n",
    "@assert fn(a,b) == a*b"
   ],
   "metadata": {},
   "execution_count": null
  },
  {
   "cell_type": "markdown",
   "source": [
    "### Functions: dot-syntax *IMPORTANT*\n",
    "\n",
    "Functions which are scalar functions in maths, say `cos`, are only defined for scalars in Julia!\n",
    "\n",
    "To apply them element-wise to vectors use `cos.([1,2])`.\n",
    "\n",
    "Similarly the dot also works for infix functions, say `.+`.\n",
    "\n",
    "Exercise: apply the `sin` function to a vector `1:10` and add `7`:"
   ],
   "metadata": {
    "name": "A slide ",
    "slideshow": {
     "slide_type": "subslide"
    }
   }
  },
  {
   "outputs": [],
   "cell_type": "code",
   "source": [
    "# ..."
   ],
   "metadata": {},
   "execution_count": null
  },
  {
   "cell_type": "markdown",
   "source": [
    "Broadcasting will extend row and column vectors into a matrix.\n",
    "Try `(1:10) .+ (1:10)'`  (Note the `'`, this is the transpose operator)"
   ],
   "metadata": {}
  },
  {
   "outputs": [],
   "cell_type": "code",
   "source": [
    "# ..."
   ],
   "metadata": {},
   "execution_count": null
  },
  {
   "cell_type": "markdown",
   "source": [
    "### Functions: dot-syntax exercise\n",
    "\n",
    "Evaluate the function `sin(x) + cos(y)` for\n",
    "`x = 0:0.1:pi` and `y = -pi:0.1:pi`.  Remember to use `'`."
   ],
   "metadata": {
    "name": "A slide ",
    "slideshow": {
     "slide_type": "subslide"
    }
   }
  },
  {
   "outputs": [],
   "cell_type": "code",
   "source": [
    "# ..."
   ],
   "metadata": {},
   "execution_count": null
  },
  {
   "cell_type": "markdown",
   "source": [
    "### Functions: exclamation mark, e.g. `push!`\n",
    "\n",
    "In Julia many functions have a `!` appended. For instance the `push!` function which you saw above.\n",
    "- signifies that the function mutates some of its arguments\n",
    "- is just a convention, i.e. the `!` is not a special syntax like the `.` you saw above\n",
    "- also name your mutating functions with a `!` at the end"
   ],
   "metadata": {
    "name": "A slide ",
    "slideshow": {
     "slide_type": "subslide"
    }
   }
  },
  {
   "cell_type": "markdown",
   "source": [
    "### Functions: anonymous functions\n",
    "\n",
    "So far our function got a name with the definition. They can also be defined without name.\n",
    "\n",
    "See [https://docs.julialang.org/en/v1/manual/functions/#man-anonymous-functions](https://docs.julialang.org/en/v1/manual/functions/#man-anonymous-functions)"
   ],
   "metadata": {
    "name": "A slide ",
    "slideshow": {
     "slide_type": "subslide"
    }
   }
  },
  {
   "outputs": [],
   "cell_type": "code",
   "source": [
    "map(x -> sin(x) + cos(x), 1:10)"
   ],
   "metadata": {},
   "execution_count": null
  },
  {
   "cell_type": "markdown",
   "source": [
    "### Key feature: multiple dispatch functions\n",
    "\n",
    "- Julia is not an object oriented language\n",
    "\n",
    "OO:\n",
    "- methods belong to objects\n",
    "- method is selected based on first argument (e.g. `self` in Python)\n",
    "\n",
    "Multiple dispatch:\n",
    "- methods are separate from objects\n",
    "- are selected based on all arguments\n",
    "- similar to overloading but method selection occurs at runtime and not compile-time (see also video below)\n",
    "> very natural for mathematical programming\n",
    "\n",
    "JuliaCon 2019 presentation on the subject by Stefan Karpinski\n",
    "(co-creator of Julia):\n",
    "\n",
    "[\"The Unreasonable Effectiveness of Multiple Dispatch\"](https://www.youtube.com/watch?v=kc9HwsxE1OY)"
   ],
   "metadata": {
    "name": "A slide ",
    "slideshow": {
     "slide_type": "subslide"
    }
   }
  },
  {
   "cell_type": "markdown",
   "source": [
    "## Functions: Multiple dispatch demo\n",
    "\n",
    "This cool example is based on a [blog post](https://giordano.github.io/blog/2017-11-03-rock-paper-scissors/) by Mose Giordano:"
   ],
   "metadata": {
    "name": "A slide ",
    "slideshow": {
     "slide_type": "subslide"
    }
   }
  },
  {
   "outputs": [],
   "cell_type": "code",
   "source": [
    "struct Rock end\n",
    "struct Paper end\n",
    "struct Scissors end\n",
    "### of course structs could have fields as well\n",
    "# struct Rock\n",
    "#     color\n",
    "#     name::String\n",
    "#     density::Float64\n",
    "# end\n",
    "\n",
    "# define multi-method\n",
    "play(::Rock, ::Paper) = \"Paper wins\"\n",
    "play(::Rock, ::Scissors) = \"Rock wins\"\n",
    "play(::Scissors, ::Paper) = \"Scissors wins\"\n",
    "play(a, b) = play(b, a) # commutative\n",
    "\n",
    "play(Scissors(), Rock())"
   ],
   "metadata": {},
   "execution_count": null
  },
  {
   "cell_type": "markdown",
   "source": [
    "### Multiple dispatch demo\n",
    "Can easily be extended later:\n",
    "\n",
    "- with new type:"
   ],
   "metadata": {
    "name": "A slide ",
    "slideshow": {
     "slide_type": "subslide"
    }
   }
  },
  {
   "outputs": [],
   "cell_type": "code",
   "source": [
    "struct Pond end\n",
    "play(::Rock, ::Pond) = \"Pond wins\"\n",
    "play(::Paper, ::Pond) = \"Paper wins\"\n",
    "play(::Scissors, ::Pond) = \"Pond wins\"\n",
    "\n",
    "play(Scissors(), Pond())"
   ],
   "metadata": {},
   "execution_count": null
  },
  {
   "cell_type": "markdown",
   "source": [
    "- with new function:"
   ],
   "metadata": {
    "name": "A slide ",
    "slideshow": {
     "slide_type": "fragment"
    }
   }
  },
  {
   "outputs": [],
   "cell_type": "code",
   "source": [
    "combine(::Rock, ::Paper) = \"Paperweight\"\n",
    "combine(::Paper, ::Scissors) = \"Two pieces of papers\"\n",
    "# ...\n",
    "\n",
    "combine(Rock(), Paper())"
   ],
   "metadata": {},
   "execution_count": null
  },
  {
   "cell_type": "markdown",
   "source": [
    "*Multiple dispatch makes Julia packages very composable!*\n",
    "\n",
    "This is a key characteristic of the Julia package ecosystem."
   ],
   "metadata": {
    "name": "A slide ",
    "slideshow": {
     "slide_type": "fragment"
    }
   }
  },
  {
   "cell_type": "markdown",
   "source": [
    "## Macros, i.e. those funky @-thingies\n",
    "\n",
    "Macro calls can easily be spotted by the `@`, for example:"
   ],
   "metadata": {
    "name": "A slide ",
    "slideshow": {
     "slide_type": "slide"
    }
   }
  },
  {
   "outputs": [],
   "cell_type": "code",
   "source": [
    "@assert 1!=2 \"Error message: why is 1==2?\""
   ],
   "metadata": {},
   "execution_count": null
  },
  {
   "cell_type": "markdown",
   "source": [
    "Macros add extra functionality which simple functions could not provide. They do this by\n",
    "operating on the code itself as opposed to the data like functions.\n",
    "\n",
    "- in general, as a beginner just use the provided macros as specified in their docs\n",
    "- think twice before you define your own macros (using `macro`) whether you can not achieve this with a function\n",
    "- more at the [Julia-docs](https://docs.julialang.org/en/v1/manual/metaprogramming/)"
   ],
   "metadata": {}
  },
  {
   "cell_type": "markdown",
   "source": [
    "## Modules and packages\n",
    "\n",
    "Modules can be used to structure code into larger entities, and be used to divide it into\n",
    "different name spaces.  We will not make much use of those, but if interested see\n",
    "[https://docs.julialang.org/en/v1/manual/modules/](https://docs.julialang.org/en/v1/manual/modules/)\n",
    "\n",
    "**Packages** are the way people distribute code and we'll make use of them extensively.\n",
    "In the first example, the Lorenz ODE, you saw\n",
    "```\n",
    "using Plots\n",
    "```\n",
    "This statement loads the package `Plots`, the older standard plotting package, and makes its functions\n",
    "and types available in the current session. Note that Plots.jl comes pre-installed on Colab; the plotting\n",
    "package we recommend [`Makie.jl`](https://makie.org) would need to be installed.\n",
    "\n",
    "Use `Plots.jl` it like so:"
   ],
   "metadata": {
    "name": "A slide ",
    "slideshow": {
     "slide_type": "slide"
    }
   }
  },
  {
   "outputs": [],
   "cell_type": "code",
   "source": [
    "using Plots\n",
    "plot( (1:10).^2 )"
   ],
   "metadata": {},
   "execution_count": null
  },
  {
   "cell_type": "markdown",
   "source": [
    "### Packages\n",
    "\n",
    "All public Julia packages are listed on [https://juliahub.com/ui/Packages](https://juliahub.com/ui/Packages).\n",
    "\n",
    "You can install a package, say [`UnPack`](https://github.com/mauro3/UnPack.jl) by\n",
    "```julia-repl\n",
    "using Pkg\n",
    "Pkg.add(\"UnPack\")\n",
    "using UnPack\n",
    "```\n",
    "\n",
    "In the REPL, there is also a package-mode (hit `]`) which is for interactive use."
   ],
   "metadata": {
    "name": "A slide ",
    "slideshow": {
     "slide_type": "subslide"
    }
   }
  },
  {
   "outputs": [],
   "cell_type": "code",
   "source": [
    "# Install a package the UnPack.jl package\n",
    "# use it, query help on the macro `@unpack` which the package provides:\n",
    "\n",
    "using Pkg\n",
    "# ..."
   ],
   "metadata": {},
   "execution_count": null
  },
  {
   "outputs": [],
   "cell_type": "code",
   "source": [
    "# ..."
   ],
   "metadata": {},
   "execution_count": null
  },
  {
   "cell_type": "markdown",
   "source": [
    "### Environments\n",
    "\n",
    "Packages can be installed into a \"environment\", think virtual-env for Python. That is the recommended way to do this to\n",
    "keep dependencies with their project and avoid package version conflicts. See:\n",
    "- https://pkgdocs.julialang.org/v1/environments/\n",
    "\n",
    "### Example: this course\n",
    "This short course uses a few packages, you can see them in the various `Project.toml` files. The one for this notebook is\n",
    "[Project.toml](https://github.com/mauro3/EGU2025-Julia-intro-and-showcase-for-geoscience/blob/main/intro-notebooks/Project.toml).\n",
    "This is what gets intstalled with the invocation placed at the top of this notebook:\n",
    "```julia\n",
    "using Pkg; Pkg.instantiate()\n",
    "```"
   ],
   "metadata": {}
  },
  {
   "cell_type": "markdown",
   "source": [
    "## This concludes the rapid Julia intro\n",
    "\n",
    "There are many more features of Julia for sure but this should get you started, and setup for\n",
    "the exercises.  (Let us know if you feel we left something out which would have been helpful for the exercises).\n",
    "\n",
    "Remember you can self-help with:\n",
    "- using `?` at the notebook.  Similarly there is an `apropos` function.\n",
    "- the docs are your friend [https://docs.julialang.org/en/v1/](https://docs.julialang.org/en/v1/)"
   ],
   "metadata": {
    "name": "A slide ",
    "slideshow": {
     "slide_type": "subslide"
    }
   }
  }
 ],
 "nbformat_minor": 3,
 "metadata": {
  "language_info": {
   "file_extension": ".jl",
   "mimetype": "application/julia",
   "name": "julia",
   "version": "1.11.5"
  },
  "kernelspec": {
   "name": "julia-1.11",
   "display_name": "Julia 1.11.5",
   "language": "julia"
  }
 },
 "nbformat": 4
}
