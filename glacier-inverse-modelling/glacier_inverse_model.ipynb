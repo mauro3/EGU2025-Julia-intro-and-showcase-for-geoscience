version https://git-lfs.github.com/spec/v1
oid sha256:c17316b2f76f0b0921762c8d69bb5a5a51e5ec0311610be6433624bcab34db51
size 31405
