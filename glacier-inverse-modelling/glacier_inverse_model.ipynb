{
  "cells": [
    {
      "cell_type": "markdown",
      "metadata": {
        "id": "view-in-github",
        "colab_type": "text"
      },
      "source": [
        "<a href=\"https://colab.research.google.com/github/mauro3/EGU2025-Julia-intro-and-showcase-for-geoscience/blob/main/glacier-inverse-modelling/glacier_inverse_model.ipynb\" target=\"_parent\"><img src=\"https://colab.research.google.com/assets/colab-badge.svg\" alt=\"Open In Colab\"/></a>"
      ]
    },
    {
      "cell_type": "markdown",
      "id": "3d22aa0d",
      "metadata": {
        "id": "3d22aa0d"
      },
      "source": [
        "# Inverse glacier modelling on graphics processing units (GPUs)\n",
        "_by Ludovic Räss, Ivan Utkin, Mauro Werder & friends_"
      ]
    },
    {
      "cell_type": "markdown",
      "id": "SzI7bYGfiOC_",
      "metadata": {
        "id": "SzI7bYGfiOC_"
      },
      "source": [
        "As preliminary step, let's prepare the Julia environment as it may take some time to get things ready.\n",
        "1. First, check what packages are already installed on the GPU cloud instance, and activate a local project environment:"
      ]
    },
    {
      "cell_type": "code",
      "execution_count": null,
      "id": "IguVlMDestlg",
      "metadata": {
        "collapsed": true,
        "id": "IguVlMDestlg"
      },
      "outputs": [],
      "source": [
        "import Pkg\n",
        "Pkg.status()\n",
        "Pkg.activate(pwd())"
      ]
    },
    {
      "cell_type": "markdown",
      "id": "PlRftJv33IfB",
      "metadata": {
        "id": "PlRftJv33IfB"
      },
      "source": [
        "2. Then, let's add the packages we will need:"
      ]
    },
    {
      "cell_type": "code",
      "execution_count": null,
      "id": "2RYF5IeBiIKY",
      "metadata": {
        "collapsed": true,
        "id": "2RYF5IeBiIKY"
      },
      "outputs": [],
      "source": [
        "Pkg.add(url=\"https://github.com/yiluchen1066/Glaide.jl\")\n",
        "Pkg.add([\"CairoMakie\", \"JLD2\", \"Unitful\"])"
      ]
    },
    {
      "cell_type": "markdown",
      "id": "7PEf-Bn43elZ",
      "metadata": {
        "id": "7PEf-Bn43elZ"
      },
      "source": [
        "3. Now we have all we need, let's use them"
      ]
    },
    {
      "cell_type": "code",
      "execution_count": null,
      "id": "kh31xQ-03jqC",
      "metadata": {
        "id": "kh31xQ-03jqC"
      },
      "outputs": [],
      "source": [
        "using Glaide, CairoMakie, Printf, JLD2, CUDA, Unitful"
      ]
    },
    {
      "cell_type": "markdown",
      "id": "8702d8d8",
      "metadata": {
        "id": "8702d8d8"
      },
      "source": [
        "> ### 💡 Before getting started\n",
        ">\n",
        "> - This notebook is a stripped down version of a somewhat longer modelling workflow skipping the data preparation and only showcasing a so-called \"snapshot\" inversion of the spatial distribution of the basal sliding coefficient for the Aletsch glacier in the Swiss Alps;\n",
        "> - The notebook calls into the [Glaide.jl](https://github.com/yiluchen1066/Glaide.jl) Julia package that implements most of the compute;\n",
        "> - The code requires a Nvidia CUDA-capable GPU to execute on;\n",
        "> - The content is part of a paper recently accepted and soon available online in the Journal of Glaciology (link to pre-revision preprint: http://dx.doi.org/10.22541/essoar.172798784.45298378/v1)."
      ]
    },
    {
      "cell_type": "markdown",
      "id": "5957e012",
      "metadata": {
        "id": "5957e012"
      },
      "source": [
        "## Inverse glacier modelling\n",
        "\n",
        "For this short demo, we are interested in constraining the spatial distribution of a glacier sliding coefficient $A_\\mathrm{s}$. This sliding occurs at the ice-bedrock interface and may enhance glacier flow beyond the pure viscous flow deformation of the bulk of the ice. As a result, one may observe surface ice velocities that differ from values predicted by a purely viscous ice flow model with the basal ice being frozen to the bed.\n",
        "\n",
        "To achieve our goals, we will implement an optimisation workflow that employs automatic differentiation (AD) to generate adjoint code and runs in parallel on graphics processing units (GPUs).\n",
        "\n",
        "AD is a powerfull tool that enables us to retrieve gradients (or derivatives) of Julia code in an automated fashion. We rely on [Enzyme.jl,](https://github.com/EnzymeAD/Enzyme.jl) a high-performance automatic differentiator of LLVM (the Julia \"compiler\")."
      ]
    },
    {
      "cell_type": "markdown",
      "id": "gqRr1og571PM",
      "metadata": {
        "id": "gqRr1og571PM"
      },
      "source": [
        "## The Aletsch glacier dataset\n",
        "\n",
        "In this demo, we will target the Aletsch glacier in the Swiss Alps. In order to keep the material concise, we have prepared a dataset that can be readily downloaded from Zenodo. The pre-processing workflow is available as an interactive [Pluto.jl](https://plutojl.org/) notebook [generate_aletsch_setup.jl](https://github.com/yiluchen1066/Glaide.jl/blob/main/app/generate_aletsch_setup.jl), which is part of the Glaide.jl package.\n",
        "\n",
        "Let's download the pre-processed file `aletsch_25m.jld2` (saved as [JLD2](https://github.com/JuliaIO/JLD2.jl) - a Julia HDF5 format), save it locally to the userspace and then visualise it using [CairoMakie](https://docs.makie.org/stable/explanations/backends/cairomakie)."
      ]
    },
    {
      "cell_type": "code",
      "execution_count": null,
      "id": "448827ae",
      "metadata": {
        "id": "448827ae"
      },
      "outputs": [],
      "source": [
        "dataset_url = \"https://zenodo.org/api/records/15279196/files-archive\"\n",
        "datasets_dir = \"./datasets\"\n",
        "dataset_name = \"aletsch_25m.jld2\"\n",
        "download_raster(dataset_url, dataset_name, joinpath(datasets_dir, dataset_name))"
      ]
    },
    {
      "cell_type": "code",
      "execution_count": null,
      "id": "a8527d97",
      "metadata": {
        "id": "a8527d97"
      },
      "outputs": [],
      "source": [
        "with_theme(theme_latexfonts()) do\n",
        "    # visualise the highest resolution (25m)\n",
        "    vis_path = joinpath(datasets_dir, dataset_name)\n",
        "\n",
        "    fields, scalars, numerics, eb, mb = load(vis_path, \"fields\",\n",
        "                                                       \"scalars\",\n",
        "                                                       \"numerics\",\n",
        "                                                       \"eb\",\n",
        "                                                       \"mb\")\n",
        "\n",
        "\n",
        "    fig = Figure(; size=(850, 550), fontsize=16)\n",
        "\n",
        "    # convert to km\n",
        "    x_km = ustrip.(u\"km\", numerics.xc .* L_REF)\n",
        "    y_km = ustrip.(u\"km\", numerics.yc .* L_REF)\n",
        "\n",
        "    axs = (Axis(fig[1, 1][1, 1]; aspect=DataAspect()),\n",
        "           Axis(fig[1, 2][1, 1]; aspect=DataAspect()),\n",
        "           Axis(fig[2, 1][1, 1]; aspect=DataAspect()),\n",
        "           Axis(fig[2, 2][1, 1]; aspect=DataAspect()),\n",
        "           Axis(fig[1, 3][1, 1]; aspect=DataAspect()),\n",
        "           Axis(fig[2, 3]      ; title=L\"\\text{SMB model}\"))\n",
        "\n",
        "    colgap!(fig.layout, 1, Relative(0.08))\n",
        "\n",
        "    axs[1].title = L\"B~\\mathrm{[m]}\"\n",
        "    axs[2].title = L\"V~\\mathrm{[m/a]}\"\n",
        "    axs[3].title = L\"H_{2016}~\\mathrm{[m]}\"\n",
        "    axs[4].title = L\"H_{2017} - H_{2016}~\\mathrm{[m]}\"\n",
        "    axs[5].title = L\"\\text{mass balance mask}\"\n",
        "\n",
        "    axs[3].xlabel = L\"x~\\mathrm{[km]}\"\n",
        "    axs[4].xlabel = L\"x~\\mathrm{[km]}\"\n",
        "\n",
        "    axs[1].ylabel = L\"y~\\mathrm{[km]}\"\n",
        "    axs[3].ylabel = L\"y~\\mathrm{[km]}\"\n",
        "\n",
        "    axs[6].xlabel = L\"z~\\mathrm{[km]}\"\n",
        "    axs[6].ylabel = L\"\\dot{b}~\\mathrm{[m/a]}\"\n",
        "\n",
        "    hidexdecorations!.((axs[1], axs[2], axs[5]))\n",
        "    hideydecorations!.((axs[2], axs[4], axs[5]))\n",
        "\n",
        "    axs[2].xgridvisible=true\n",
        "    axs[2].ygridvisible=true\n",
        "    axs[4].ygridvisible=true\n",
        "\n",
        "    fields.V     .= ustrip.(u\"m/yr\", fields.V     .* L_REF / T_REF)\n",
        "    fields.B     .= ustrip.(u\"m\"   , fields.B     .* L_REF)\n",
        "    fields.H_old .= ustrip.(u\"m\"   , fields.H_old .* L_REF)\n",
        "    fields.H     .= ustrip.(u\"m\"   , fields.H     .* L_REF)\n",
        "\n",
        "    # cut off everything where the ice thickness is less than 1m\n",
        "    ice_mask = fields.H .< 1.0\n",
        "\n",
        "    fields.V[ice_mask]     .= NaN\n",
        "    fields.H_old[ice_mask] .= NaN\n",
        "    fields.H[ice_mask]     .= NaN\n",
        "\n",
        "    hms = (heatmap!(axs[1], x_km, y_km, fields.B),\n",
        "           heatmap!(axs[2], x_km, y_km, fields.V),\n",
        "           heatmap!(axs[3], x_km, y_km, fields.H_old),\n",
        "           heatmap!(axs[4], x_km, y_km, fields.H .- fields.H_old ),\n",
        "           heatmap!(axs[5], x_km, y_km, fields.mb_mask))\n",
        "\n",
        "    foreach(hms) do h\n",
        "        h.interpolate = true\n",
        "    end\n",
        "\n",
        "    hms[1].colormap = :terrain\n",
        "    hms[2].colormap = :turbo\n",
        "    hms[3].colormap = :vik\n",
        "    hms[4].colormap = :vik\n",
        "    hms[5].colormap = :grays\n",
        "\n",
        "    hms[1].colorrange = (1000, 4000)\n",
        "    hms[2].colorrange = (0, 300)\n",
        "    hms[3].colorrange = (0, 900)\n",
        "    hms[4].colorrange = (-10, 0)\n",
        "\n",
        "    z    = (LinRange(1900, 4150, 1000) * u\"m\") ./ L_REF .|> NoUnits\n",
        "    mb_f = @. min(scalars.b * (z - scalars.ela), scalars.mb_max)\n",
        "\n",
        "    # observational mass balance data\n",
        "    scatter!(axs[6], ustrip.(u\"km\"  , eb * u\"m\"),\n",
        "                     ustrip.(u\"m/yr\", mb * u\"m/s\"); markersize=7,\n",
        "                                                    color=:red,\n",
        "                                                    label=\"data\")\n",
        "\n",
        "    # parametrised model\n",
        "    lines!(axs[6], ustrip.(u\"km\"  , z    * L_REF),\n",
        "                   ustrip.(u\"m/yr\", mb_f * L_REF / T_REF); linewidth=2,\n",
        "                                                           label=\"model\")\n",
        "\n",
        "    ela = ustrip(u\"km\", scalars.ela * L_REF)\n",
        "\n",
        "    scatter!(axs[6], ela, 0; strokecolor=:black,\n",
        "                             strokewidth=2,\n",
        "                             color=:transparent,\n",
        "                             marker=:diamond,\n",
        "                             label=\"ELA\")\n",
        "\n",
        "    axislegend(axs[6]; position=:rb)\n",
        "\n",
        "    cb = (Colorbar(fig[1, 1][1, 2], hms[1]),\n",
        "          Colorbar(fig[1, 2][1, 2], hms[2]),\n",
        "          Colorbar(fig[2, 1][1, 2], hms[3]),\n",
        "          Colorbar(fig[2, 2][1, 2], hms[4]),\n",
        "          Colorbar(fig[1, 3][1, 2], hms[5]))\n",
        "\n",
        "    fig\n",
        "end"
      ]
    },
    {
      "cell_type": "markdown",
      "id": "hhyxqUbR-krN",
      "metadata": {
        "id": "hhyxqUbR-krN"
      },
      "source": [
        "The figure contains 6 panels, depicting:\n",
        "- the bedrock elevation [m] asl\n",
        "- the measured surface velocity magnitude [m/a]\n",
        "- the mass-balance mask (ice free and high-altitude regions where we do not allow for accumulation/ablation)\n",
        "- the ice thickness in the year 2016\n",
        "- the changes in ice thickness (ablation/accumulation) over the 2016 - 2017 period\n",
        "- the mass-balance data and corresponding simplified bi-linear model"
      ]
    },
    {
      "cell_type": "markdown",
      "id": "dzuU3WFV__qY",
      "metadata": {
        "id": "dzuU3WFV__qY"
      },
      "source": [
        "## Objective\n",
        "\n",
        "We are now interested in using a forward ice flow model to predict surface velocity magnitude on the Aletsch glacier, and implement an optimisation procedure to constrain the basal sliding coefficient in order to make the numerically predicted velocity field match the surface velocity data."
      ]
    },
    {
      "cell_type": "markdown",
      "id": "t9XcV_owD8OL",
      "metadata": {
        "id": "t9XcV_owD8OL"
      },
      "source": [
        "## Ice flow model\n",
        "\n",
        "We use the isothermal shallow ice approximation (SIA) as the forward model."
      ]
    },
    {
      "cell_type": "markdown",
      "id": "ruoFyR_qBFei",
      "metadata": {
        "id": "ruoFyR_qBFei"
      },
      "source": [
        "According to the SIA, the surface velocity $V$ is given by:\n",
        "\n",
        "$$\n",
        "V = \\left(\\rho g\\right)^n \\left[\\frac{2}{n+1} A H^{n+1} + A_\\mathrm{s} H^n \\right] \\left| \\nabla S \\right|^{n}~,\n",
        "$$\n",
        "\n",
        "where $S = B + H$ is the ice surface elevation, $B$ is the bed elevation, $\\rho$ is the ice density, $g$ is the gravitational acceleration, $A$ is the ice-flow parameter, $A_\\mathrm{s}$ is the sliding parameter and $n$ is Glen's flow law exponent. The first term in brackets represents the flow due to ice deformation and the second term due to sliding following a Weertman-like sliding law where all constants are lumped into $A_\\mathrm{s}$.\n",
        "\n",
        "To account for the discrepancies introduced by using the simplified ice flow description, we introduce the correction factor $E$ to define the ice flow parameter $A$:\n",
        "\n",
        "$$\n",
        "A = E A_0~,\n",
        "$$\n",
        "\n",
        "where $A_0$ is the reference value of the ice flow parameter. Value of $E$ vary depending on the problem setup, but stay constant in time and space, assuming that most of the variability in the results can be attributed to the local changes in sliding.\n",
        "\n",
        "The evolution of the ice thickness $H$ is described by the depth-averaged mass conservation equation:\n",
        "\n",
        "$$\n",
        "\\frac{\\partial H}{\\partial t} = -\\nabla \\cdot \\boldsymbol{q} + \\dot{b} ~,\n",
        "$$\n",
        "\n",
        "where $\\boldsymbol{q}$ is the horizontal ice flux and $\\dot{b}$ is the volumetric surface mass balance rate, i.e. the rate of ice accumulation and ablation at a point. The horizontal ice flux $\\boldsymbol{q}$ is defined as the vertically integrated velocity field:\n",
        "\n",
        "$$\n",
        "\\boldsymbol{q} = \\int_{B}^{S}\\boldsymbol{V}(z)\\,\\mathrm{d}z~.\n",
        "$$\n",
        "\n",
        "We define the surface mass-balance $\\dot{b}$ as:\n",
        "\n",
        "$$\n",
        "\\dot{b} = \\min \\left\\{ c (S - z_\\mathrm{ELA}), ~\\dot{b}_\\mathrm{max} \\right\\} ~,\n",
        "$$\n",
        "\n",
        "where $c$ is the mass-balance rate gradient, $S$ is the surface elevation, $z_\\mathrm{ELA}$ is the equilibrium line altitude, and $\\dot{b}_\\mathrm{max}$ is the maximum ice accumulation rate.\n",
        "\n",
        "The ice flow equation can be regarded as a non-linear diffusion-reaction equation with a non-linear diffusion coefficient $D$ and horizontal diffusion flux $\\boldsymbol{q}$:\n",
        "\n",
        "\\begin{gather}\n",
        "    \\boldsymbol{q} = -D ~ \\nabla S ~, \\\\[10pt]\n",
        "    D = (\\rho g)^n \\left[\\frac{2}{n+2} A H^{n+2} + A_\\mathrm{s} H^{n+1}\\right] \\left|\\nabla S\\right|^{n-1} ~,\n",
        "\\end{gather}\n",
        "\n",
        "which we numerically solve using the [accelerated pseudo-transient (APT) method](https://gmd.copernicus.org/articles/15/5757/2022/). At the boundaries of the computational domain, we specify \"zero-flux\" boundary conditions: $\\boldsymbol{q}\\cdot\\boldsymbol{n} = 0$, where $\\boldsymbol{n}$ is the normal to the boundary."
      ]
    },
    {
      "cell_type": "markdown",
      "id": "nGZw74ZCD1aT",
      "metadata": {
        "id": "nGZw74ZCD1aT"
      },
      "source": [
        "## Snapshot inversion"
      ]
    },
    {
      "cell_type": "markdown",
      "id": "474af9ab",
      "metadata": {
        "id": "474af9ab"
      },
      "source": [
        "In this example, we will use inverse modelling routine implemented in Glaide.jl to reconstruct spatially variable sliding parameter $A_\\mathrm{s}$. The inverse modelling problem is defined as a minimisation problem with the following objective functional:\n",
        "\n",
        "$$\n",
        "J(A_\\mathrm{s}) = \\frac{\\omega_V}{2}\\sum_i\\left(V_i(A_\\mathrm{s}) - V^\\mathrm{obs}_i\\right)^2 + \\frac{\\gamma}{2}\\sum_i\\left(\\nabla A_{\\mathrm{s}_i}\\right)^2~,\n",
        "$$\n",
        "\n",
        "where $\\omega_V$ is the normalisation factor and $\\gamma$ is the Tikhonov regularisation parameter.\n",
        "\n",
        "The normalisation constant is defined as the inverse of the $L_2$-norm of the observed velocity field:\n",
        "\n",
        "$$\n",
        "\\omega_V = \\left[\\sum_i\\left(V^\\mathrm{obs}_i\\right)^2\\right]^{-1}\n",
        "$$"
      ]
    },
    {
      "cell_type": "markdown",
      "id": "18e632e0",
      "metadata": {
        "id": "18e632e0"
      },
      "source": [
        "### Configuration\n",
        "\n",
        "Define the type encapsulating the properties of the inversion that might be different between cases. In this study, these are the path to the input file and the enhancement factor $E$, which is needed to reduce the influence of the ice deformation in the Aletsch case:"
      ]
    },
    {
      "cell_type": "code",
      "execution_count": null,
      "id": "8eb6e916",
      "metadata": {
        "id": "8eb6e916"
      },
      "outputs": [],
      "source": [
        "Base.@kwdef struct InversionScenarioSnapshot\n",
        "    input_file::String\n",
        "    output_dir::String\n",
        "    E::Float64 = 1.0\n",
        "end"
      ]
    },
    {
      "cell_type": "markdown",
      "id": "73f7af7f",
      "metadata": {
        "id": "73f7af7f"
      },
      "source": [
        "Define the initial guess for the sliding parameter:"
      ]
    },
    {
      "cell_type": "code",
      "execution_count": null,
      "id": "2621f96e",
      "metadata": {
        "id": "2621f96e"
      },
      "outputs": [],
      "source": [
        "As_init = 1e-22u\"Pa^-3*s^-1*m\""
      ]
    },
    {
      "cell_type": "markdown",
      "id": "dead3569",
      "metadata": {
        "id": "dead3569"
      },
      "source": [
        "Define the regularisation parameter:"
      ]
    },
    {
      "cell_type": "code",
      "execution_count": null,
      "id": "27cff90f",
      "metadata": {
        "id": "27cff90f"
      },
      "outputs": [],
      "source": [
        "γ_reg = 1e-6;"
      ]
    },
    {
      "cell_type": "markdown",
      "id": "e6cc4a04",
      "metadata": {
        "id": "e6cc4a04"
      },
      "source": [
        "Define the maximum number of iterations in the optimisation algorithm:"
      ]
    },
    {
      "cell_type": "code",
      "execution_count": null,
      "id": "350aa6cb",
      "metadata": {
        "id": "350aa6cb"
      },
      "outputs": [],
      "source": [
        "maxiter = 1000;"
      ]
    },
    {
      "cell_type": "markdown",
      "id": "c14c690c",
      "metadata": {
        "id": "c14c690c"
      },
      "source": [
        "Define the parameters of the line search. Here, we only configure the minimal and maximal step size. In Glaide, the two-way backtracking line search based on Armijo-Goldstein condition is implemented. If in the line search loop the step size decreases below $\\alpha_\\mathrm{min}$, the optimisation stops with an error. If the step size increases above $\\alpha_\\mathrm{max}$, line search accepts $\\alpha_\\mathrm{max}$ as the step size. Increasing $\\alpha_\\mathrm{max}$ might improve convergence rate in some cases, but can also lead to instabilities and convergence issues in the forward solver."
      ]
    },
    {
      "cell_type": "code",
      "execution_count": null,
      "id": "c695d7ae",
      "metadata": {
        "id": "c695d7ae"
      },
      "outputs": [],
      "source": [
        "line_search = BacktrackingLineSearch(; α_min=1e2, α_max=1e6);"
      ]
    },
    {
      "cell_type": "markdown",
      "id": "0d136275",
      "metadata": {
        "id": "0d136275"
      },
      "source": [
        "### Inversion function\n",
        "\n",
        "Here, we create a function that executes the inversion scenario:"
      ]
    },
    {
      "cell_type": "code",
      "execution_count": null,
      "id": "9aac1fa8",
      "metadata": {
        "id": "9aac1fa8"
      },
      "outputs": [],
      "source": [
        "function run_inversion(scenario::InversionScenarioSnapshot)\n",
        "    model = SnapshotSIA(scenario.input_file)\n",
        "\n",
        "    model.scalars.ρgnA *= scenario.E\n",
        "\n",
        "    V_obs = copy(model.fields.V)\n",
        "\n",
        "    ωᵥ = inv(sum(V_obs .^ 2))\n",
        "\n",
        "    objective = SnapshotObjective(ωᵥ, V_obs, γ_reg)\n",
        "\n",
        "    # see cells below for details on how the callback is implemented\n",
        "    callback = Callback(model, scenario, V_obs)\n",
        "    options  = OptimisationOptions(; line_search, callback, maxiter)\n",
        "\n",
        "    n = model.scalars.n\n",
        "\n",
        "    # initial guess\n",
        "    ρgnAs_init = RHOG^n * As_init * (L_REF^(n-1) * T_REF) |> NoUnits\n",
        "    log_ρgnAs0 = CUDA.fill(log(ρgnAs_init), size(V_obs))\n",
        "\n",
        "    # inversion\n",
        "    optimise(model, objective, log_ρgnAs0, options)\n",
        "\n",
        "    # show animation\n",
        "    return callback.video_stream\n",
        "end;"
      ]
    },
    {
      "cell_type": "markdown",
      "id": "e313461f",
      "metadata": {
        "id": "e313461f"
      },
      "source": [
        "### Some comments on the above code:\n",
        "\n",
        "- We initialise the observed velocity field `V_obs` with `model.fields.V`. This is because the observed velocity is stored in the model's field `V`, as implemented in the notebook [`generate_aletsch_setup.jl`](https://github.com/yiluchen1066/Glaide.jl/blob/main/app/generate_aletsch_setup.jl);\n",
        "- We create the callback object `callback = Callback(model, obs)`. The definition of `Callback` is a bit convoluted, but in short, it handles the debug visualisation, keeping track of the convergence history, and saving the intermediate results of the optimisation. The details of the callback objects are shown hereafter."
      ]
    },
    {
      "cell_type": "code",
      "execution_count": null,
      "id": "71e6f0ac",
      "metadata": {
        "id": "71e6f0ac"
      },
      "outputs": [],
      "source": [
        "mutable struct Callback{M,S,JH}\n",
        "    model::M\n",
        "    scenario::S\n",
        "    j_hist::JH\n",
        "    fig::Figure\n",
        "    axs\n",
        "    hms\n",
        "    lns\n",
        "    cbs\n",
        "    video_stream\n",
        "    step::Int\n",
        "\n",
        "    function Callback(model, scenario, V_obs)\n",
        "        j_hist = Point2{Float64}[]\n",
        "\n",
        "        fig = Figure(; size=(800, 850))\n",
        "\n",
        "        axs = (Axis(fig[1, 1][1, 1]; aspect=DataAspect()),\n",
        "               Axis(fig[1, 2][1, 1]; aspect=DataAspect()),\n",
        "               Axis(fig[2, 1][1, 1]; aspect=DataAspect()),\n",
        "               Axis(fig[2, 2][1, 1]; aspect=DataAspect()),\n",
        "               Axis(fig[3, :]; yscale=log10))\n",
        "\n",
        "        axs[1].title = \"log10(As)\"\n",
        "        axs[2].title = \"dJ/d(logAs)\"\n",
        "        axs[3].title = \"V_obs\"\n",
        "        axs[4].title = \"V\"\n",
        "        axs[5].title = \"Convergence\"\n",
        "\n",
        "        axs[5].xlabel = \"Iteration\";\n",
        "        axs[5].ylabel = \"J\"\n",
        "\n",
        "        xc_km = ustrip.(u\"km\", model.numerics.xc .* L_REF)\n",
        "        yc_km = ustrip.(u\"km\", model.numerics.yc .* L_REF)\n",
        "\n",
        "        n     = model.scalars.n\n",
        "        ρgnAs = model.fields.ρgnAs\n",
        "        V     = model.fields.V\n",
        "\n",
        "        As_v    = ustrip.(u\"Pa^-3*s^-1*m\", ρgnAs .* (L_REF^(1-n) * T_REF^(-1) / RHOG^n))\n",
        "        V_obs_v = ustrip.(u\"m/yr\", V_obs .* (L_REF / T_REF))\n",
        "        V_v     = ustrip.(u\"m/yr\", V     .* (L_REF / T_REF))\n",
        "\n",
        "        hms = (heatmap!(axs[1], xc_km, yc_km, Array(log10.(As_v))),\n",
        "               heatmap!(axs[2], xc_km, yc_km, Array(log10.(As_v))),\n",
        "               heatmap!(axs[3], xc_km, yc_km, Array(V_obs_v)),\n",
        "               heatmap!(axs[4], xc_km, yc_km, Array(V_v)))\n",
        "\n",
        "        hms[1].colormap = Makie.Reverse(:roma)\n",
        "        hms[2].colormap = Makie.Reverse(:roma)\n",
        "        hms[3].colormap = :turbo\n",
        "        hms[4].colormap = :turbo\n",
        "\n",
        "        hms[1].colorrange = (-24, -20)\n",
        "        hms[2].colorrange = (-1e-8, 1e-8)\n",
        "        hms[3].colorrange = (0, 300)\n",
        "        hms[4].colorrange = (0, 300)\n",
        "\n",
        "        lns = (lines!(axs[5], Point2{Float64}[]), )\n",
        "\n",
        "        cbs = (Colorbar(fig[1, 1][1, 2], hms[1]),\n",
        "               Colorbar(fig[1, 2][1, 2], hms[2]),\n",
        "               Colorbar(fig[2, 1][1, 2], hms[3]),\n",
        "               Colorbar(fig[2, 2][1, 2], hms[4]))\n",
        "\n",
        "        new{typeof(model), typeof(scenario), typeof(j_hist)}(model,\n",
        "                                                             scenario,\n",
        "                                                             j_hist,\n",
        "                                                             fig,\n",
        "                                                             axs,\n",
        "                                                             hms,\n",
        "                                                             lns,\n",
        "                                                             cbs,\n",
        "                                                             nothing, 0)\n",
        "    end\n",
        "end\n",
        "\n",
        "function (cb::Callback)(state::OptmisationState)\n",
        "    if state.iter == 0\n",
        "        empty!(cb.j_hist)\n",
        "        cb.video_stream = VideoStream(cb.fig; framerate=10)\n",
        "        cb.step = 0\n",
        "\n",
        "        mkpath(cb.scenario.output_dir)\n",
        "    end\n",
        "\n",
        "    push!(cb.j_hist, Point2(state.iter, state.j_value))\n",
        "\n",
        "    if state.iter % 10 == 0\n",
        "        @info @sprintf(\"iter #%-4d, J = %1.3e, ΔJ/J = %1.3e, ΔX/X = %1.3e, α = %1.3e\\n\", state.iter,\n",
        "                  state.j_value,\n",
        "                  state.j_change,\n",
        "                  state.x_change,\n",
        "                  state.α)\n",
        "\n",
        "        n     = cb.model.scalars.n\n",
        "        ρgnAs = cb.model.fields.ρgnAs\n",
        "        V     = cb.model.fields.V\n",
        "\n",
        "        coef = (L_REF^(1-n) * T_REF^(-1) / RHOG^n)\n",
        "\n",
        "        As_v = ustrip.(u\"Pa^-3*s^-1*m\", ρgnAs .* coef)\n",
        "        V_v  = ustrip.(u\"m/yr\", V .* (L_REF / T_REF))\n",
        "\n",
        "\n",
        "        cb.hms[1][3] = Array(log10.(As_v))\n",
        "        cb.hms[2][3] = Array(state.X̄ ./ log10(ℯ))\n",
        "        cb.hms[4][3] = Array(V_v)\n",
        "        cb.lns[1][1] = cb.j_hist\n",
        "        autolimits!(cb.axs[5])\n",
        "        recordframe!(cb.video_stream)\n",
        "\n",
        "        output_path = joinpath(cb.scenario.output_dir, @sprintf(\"step_%04d.jld2\", cb.step))\n",
        "\n",
        "        jldsave(output_path;\n",
        "                X=Array(state.X),\n",
        "                X̄=Array(state.X̄),\n",
        "                V=Array(cb.model.fields.V),\n",
        "                H=Array(cb.model.fields.H),\n",
        "                iter=state.iter,\n",
        "                j_hist=cb.j_hist,)\n",
        "\n",
        "        cb.step += 1\n",
        "    end\n",
        "    return\n",
        "end"
      ]
    },
    {
      "cell_type": "markdown",
      "id": "1d68a23f",
      "metadata": {
        "id": "1d68a23f"
      },
      "source": [
        "### Aletsch inversion\n",
        "\n",
        "Then, we create the inversion scenario to reconstruct the distribution of the sliding parameter at the base of the Aletsch glacier. There, using the standard parameters for the flow parameter $A = 2.5\\times10^{-24}\\,\\text{Pa}\\,\\text{s}^{-3}$ result in the surface velocity values much higher than the observed ones even without any sliding. This is likely due to using the SIA model that doesn't account for longitudinal stresses and non-hydrostatic pressure variations. We correct this by introducing a flow enhancement factor $E = 0.25$:"
      ]
    },
    {
      "cell_type": "code",
      "execution_count": null,
      "id": "55577c7d",
      "metadata": {
        "id": "55577c7d"
      },
      "outputs": [],
      "source": [
        "aletsch_scenario = InversionScenarioSnapshot(;\n",
        "    input_file = \"./datasets/aletsch_25m.jld2\",\n",
        "    output_dir = \"./output/snapshot_aletsch_25m\",\n",
        "    E = 0.25\n",
        ");"
      ]
    },
    {
      "cell_type": "markdown",
      "id": "14b10091",
      "metadata": {
        "id": "14b10091"
      },
      "source": [
        "#### Run the inversion:"
      ]
    },
    {
      "cell_type": "code",
      "execution_count": null,
      "id": "c7acbb3b",
      "metadata": {
        "id": "c7acbb3b"
      },
      "outputs": [],
      "source": [
        "run_inversion(aletsch_scenario)"
      ]
    }
  ],
  "metadata": {
    "accelerator": "GPU",
    "colab": {
      "collapsed_sections": [
        "gqRr1og571PM",
        "t9XcV_owD8OL",
        "e313461f"
      ],
      "gpuType": "T4",
      "provenance": [],
      "include_colab_link": true
    },
    "kernelspec": {
      "display_name": "Julia",
      "name": "julia"
    },
    "language_info": {
      "name": "julia"
    }
  },
  "nbformat": 4,
  "nbformat_minor": 5
}